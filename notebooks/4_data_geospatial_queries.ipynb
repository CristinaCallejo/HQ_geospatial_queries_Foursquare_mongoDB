{
 "cells": [
  {
   "cell_type": "code",
   "execution_count": 7,
   "id": "f0f64ff4",
   "metadata": {},
   "outputs": [
    {
     "ename": "ModuleNotFoundError",
     "evalue": "No module named 'geojson'",
     "output_type": "error",
     "traceback": [
      "\u001b[0;31m---------------------------------------------------------------------------\u001b[0m",
      "\u001b[0;31mModuleNotFoundError\u001b[0m                       Traceback (most recent call last)",
      "\u001b[0;32m<ipython-input-7-8be3023abb3c>\u001b[0m in \u001b[0;36m<module>\u001b[0;34m\u001b[0m\n\u001b[1;32m      5\u001b[0m \u001b[0;32mimport\u001b[0m \u001b[0mos\u001b[0m\u001b[0;34m\u001b[0m\u001b[0;34m\u001b[0m\u001b[0m\n\u001b[1;32m      6\u001b[0m \u001b[0;32mimport\u001b[0m \u001b[0mcode4_data_\u001b[0m \u001b[0;32mas\u001b[0m \u001b[0mf4\u001b[0m\u001b[0;34m\u001b[0m\u001b[0;34m\u001b[0m\u001b[0m\n\u001b[0;32m----> 7\u001b[0;31m \u001b[0;32mimport\u001b[0m \u001b[0mgeojson\u001b[0m\u001b[0;34m\u001b[0m\u001b[0;34m\u001b[0m\u001b[0m\n\u001b[0m",
      "\u001b[0;31mModuleNotFoundError\u001b[0m: No module named 'geojson'"
     ]
    }
   ],
   "source": [
    "import pymongo\n",
    "from pymongo import MongoClient, GEOSPHERE\n",
    "import sys\n",
    "sys.path.append('../src')\n",
    "import os\n",
    "import code4_data_ as f4\n",
    "import geojson"
   ]
  },
  {
   "cell_type": "markdown",
   "id": "a3163fd7",
   "metadata": {},
   "source": [
    "## Establishing connection to mongoDB collection that match criteria with the offices selected"
   ]
  },
  {
   "cell_type": "code",
   "execution_count": 2,
   "id": "fab38073",
   "metadata": {},
   "outputs": [],
   "source": [
    "client = MongoClient()"
   ]
  },
  {
   "cell_type": "code",
   "execution_count": 3,
   "id": "d37a3600",
   "metadata": {},
   "outputs": [],
   "source": [
    "berlin = client.ironhack.hqreq_berlin\n",
    "paris = client.ironhack.hqreq_paris\n",
    "amsterdam = client.ironhack.hqreq_amsterdam\n",
    "companies2 = client.ironhack.companies2"
   ]
  },
  {
   "cell_type": "markdown",
   "id": "35d2d3fa",
   "metadata": {},
   "source": [
    "## Connecting to collections with locations that matches criteria"
   ]
  },
  {
   "cell_type": "markdown",
   "id": "dba70e5b",
   "metadata": {},
   "source": [
    "## Establishing connection to mongoDB"
   ]
  },
  {
   "cell_type": "code",
   "execution_count": 4,
   "id": "8c8a6a57",
   "metadata": {},
   "outputs": [],
   "source": [
    "df = f4.import_csv(\"../data_processed/gdf5_v1.csv\")"
   ]
  },
  {
   "cell_type": "code",
   "execution_count": 5,
   "id": "7d18a01a",
   "metadata": {
    "scrolled": true
   },
   "outputs": [
    {
     "data": {
      "text/html": [
       "<div>\n",
       "<style scoped>\n",
       "    .dataframe tbody tr th:only-of-type {\n",
       "        vertical-align: middle;\n",
       "    }\n",
       "\n",
       "    .dataframe tbody tr th {\n",
       "        vertical-align: top;\n",
       "    }\n",
       "\n",
       "    .dataframe thead th {\n",
       "        text-align: right;\n",
       "    }\n",
       "</style>\n",
       "<table border=\"1\" class=\"dataframe\">\n",
       "  <thead>\n",
       "    <tr style=\"text-align: right;\">\n",
       "      <th></th>\n",
       "      <th>name</th>\n",
       "      <th>category_code</th>\n",
       "      <th>city</th>\n",
       "      <th>country_code</th>\n",
       "      <th>latitude</th>\n",
       "      <th>longitude</th>\n",
       "      <th>geometry</th>\n",
       "      <th>city_coord</th>\n",
       "    </tr>\n",
       "  </thead>\n",
       "  <tbody>\n",
       "    <tr>\n",
       "      <th>0</th>\n",
       "      <td>plista</td>\n",
       "      <td>advertising</td>\n",
       "      <td>Berlin</td>\n",
       "      <td>DEU</td>\n",
       "      <td>52.528361</td>\n",
       "      <td>13.412456</td>\n",
       "      <td>{'type': 'Point', 'coordinates': (13.4124563, ...</td>\n",
       "      <td>Berlin, 10117, Germany</td>\n",
       "    </tr>\n",
       "    <tr>\n",
       "      <th>1</th>\n",
       "      <td>99designs</td>\n",
       "      <td>design</td>\n",
       "      <td>Berlin</td>\n",
       "      <td>DEU</td>\n",
       "      <td>52.498620</td>\n",
       "      <td>13.446903</td>\n",
       "      <td>{'type': 'Point', 'coordinates': (13.4469031, ...</td>\n",
       "      <td>Berlin, 10117, Germany</td>\n",
       "    </tr>\n",
       "    <tr>\n",
       "      <th>2</th>\n",
       "      <td>babbel</td>\n",
       "      <td>education</td>\n",
       "      <td>Berlin</td>\n",
       "      <td>DEU</td>\n",
       "      <td>52.489700</td>\n",
       "      <td>13.388610</td>\n",
       "      <td>{'type': 'Point', 'coordinates': (13.38861, 52...</td>\n",
       "      <td>Berlin, 10117, Germany</td>\n",
       "    </tr>\n",
       "    <tr>\n",
       "      <th>3</th>\n",
       "      <td>Deezer</td>\n",
       "      <td>music</td>\n",
       "      <td>Paris</td>\n",
       "      <td>FRA</td>\n",
       "      <td>48.878060</td>\n",
       "      <td>2.328385</td>\n",
       "      <td>{'type': 'Point', 'coordinates': (2.3283853, 4...</td>\n",
       "      <td>Paris, Ile-de-France, Metropolitan France, France</td>\n",
       "    </tr>\n",
       "    <tr>\n",
       "      <th>4</th>\n",
       "      <td>Adknowledge</td>\n",
       "      <td>advertising</td>\n",
       "      <td>Paris</td>\n",
       "      <td>FRA</td>\n",
       "      <td>48.850606</td>\n",
       "      <td>2.379783</td>\n",
       "      <td>{'type': 'Point', 'coordinates': (2.3797825, 4...</td>\n",
       "      <td>Paris, Ile-de-France, Metropolitan France, France</td>\n",
       "    </tr>\n",
       "    <tr>\n",
       "      <th>5</th>\n",
       "      <td>Netsize</td>\n",
       "      <td>mobile</td>\n",
       "      <td>Paris</td>\n",
       "      <td>FRA</td>\n",
       "      <td>48.894312</td>\n",
       "      <td>2.288319</td>\n",
       "      <td>{'type': 'Point', 'coordinates': (2.288319, 48...</td>\n",
       "      <td>Paris, Ile-de-France, Metropolitan France, France</td>\n",
       "    </tr>\n",
       "    <tr>\n",
       "      <th>6</th>\n",
       "      <td>Solairedirect</td>\n",
       "      <td>cleantech</td>\n",
       "      <td>Paris</td>\n",
       "      <td>FRA</td>\n",
       "      <td>48.874595</td>\n",
       "      <td>2.321074</td>\n",
       "      <td>{'type': 'Point', 'coordinates': (2.3210737, 4...</td>\n",
       "      <td>Paris, Ile-de-France, Metropolitan France, France</td>\n",
       "    </tr>\n",
       "    <tr>\n",
       "      <th>7</th>\n",
       "      <td>2 Minutes</td>\n",
       "      <td>games_video</td>\n",
       "      <td>Paris</td>\n",
       "      <td>FRA</td>\n",
       "      <td>48.850206</td>\n",
       "      <td>2.369803</td>\n",
       "      <td>{'type': 'Point', 'coordinates': (2.3698033, 4...</td>\n",
       "      <td>Paris, Ile-de-France, Metropolitan France, France</td>\n",
       "    </tr>\n",
       "    <tr>\n",
       "      <th>8</th>\n",
       "      <td>Bomgar</td>\n",
       "      <td>software</td>\n",
       "      <td>Paris</td>\n",
       "      <td>FRA</td>\n",
       "      <td>48.875231</td>\n",
       "      <td>2.298337</td>\n",
       "      <td>{'type': 'Point', 'coordinates': (2.2983373, 4...</td>\n",
       "      <td>Paris, Ile-de-France, Metropolitan France, France</td>\n",
       "    </tr>\n",
       "    <tr>\n",
       "      <th>9</th>\n",
       "      <td>Viadeo</td>\n",
       "      <td>social</td>\n",
       "      <td>Paris</td>\n",
       "      <td>FRA</td>\n",
       "      <td>48.874706</td>\n",
       "      <td>2.330416</td>\n",
       "      <td>{'type': 'Point', 'coordinates': (2.3304161, 4...</td>\n",
       "      <td>Paris, Ile-de-France, Metropolitan France, France</td>\n",
       "    </tr>\n",
       "    <tr>\n",
       "      <th>10</th>\n",
       "      <td>Exalead</td>\n",
       "      <td>search</td>\n",
       "      <td>Paris</td>\n",
       "      <td>FRA</td>\n",
       "      <td>48.869310</td>\n",
       "      <td>2.324782</td>\n",
       "      <td>{'type': 'Point', 'coordinates': (2.324782, 48...</td>\n",
       "      <td>Paris, Ile-de-France, Metropolitan France, France</td>\n",
       "    </tr>\n",
       "    <tr>\n",
       "      <th>11</th>\n",
       "      <td>Avantium Technologies</td>\n",
       "      <td>cleantech</td>\n",
       "      <td>Amsterdam</td>\n",
       "      <td>NLD</td>\n",
       "      <td>52.396560</td>\n",
       "      <td>4.851696</td>\n",
       "      <td>{'type': 'Point', 'coordinates': (4.8516964, 5...</td>\n",
       "      <td>Amsterdam, North Holland, Netherlands</td>\n",
       "    </tr>\n",
       "    <tr>\n",
       "      <th>12</th>\n",
       "      <td>Black Duck Software</td>\n",
       "      <td>software</td>\n",
       "      <td>Amsterdam</td>\n",
       "      <td>NLD</td>\n",
       "      <td>52.340609</td>\n",
       "      <td>4.870312</td>\n",
       "      <td>{'type': 'Point', 'coordinates': (4.870312, 52...</td>\n",
       "      <td>Amsterdam, North Holland, Netherlands</td>\n",
       "    </tr>\n",
       "    <tr>\n",
       "      <th>13</th>\n",
       "      <td>Netsize</td>\n",
       "      <td>mobile</td>\n",
       "      <td>Amsterdam</td>\n",
       "      <td>NLD</td>\n",
       "      <td>52.373801</td>\n",
       "      <td>4.890935</td>\n",
       "      <td>{'type': 'Point', 'coordinates': (4.8909347, 5...</td>\n",
       "      <td>Amsterdam, North Holland, Netherlands</td>\n",
       "    </tr>\n",
       "  </tbody>\n",
       "</table>\n",
       "</div>"
      ],
      "text/plain": [
       "                     name category_code       city country_code   latitude  \\\n",
       "0                  plista   advertising     Berlin          DEU  52.528361   \n",
       "1               99designs        design     Berlin          DEU  52.498620   \n",
       "2                  babbel     education     Berlin          DEU  52.489700   \n",
       "3                  Deezer         music      Paris          FRA  48.878060   \n",
       "4             Adknowledge   advertising      Paris          FRA  48.850606   \n",
       "5                 Netsize        mobile      Paris          FRA  48.894312   \n",
       "6           Solairedirect     cleantech      Paris          FRA  48.874595   \n",
       "7               2 Minutes   games_video      Paris          FRA  48.850206   \n",
       "8                  Bomgar      software      Paris          FRA  48.875231   \n",
       "9                  Viadeo        social      Paris          FRA  48.874706   \n",
       "10                Exalead        search      Paris          FRA  48.869310   \n",
       "11  Avantium Technologies     cleantech  Amsterdam          NLD  52.396560   \n",
       "12    Black Duck Software      software  Amsterdam          NLD  52.340609   \n",
       "13                Netsize        mobile  Amsterdam          NLD  52.373801   \n",
       "\n",
       "    longitude                                           geometry  \\\n",
       "0   13.412456  {'type': 'Point', 'coordinates': (13.4124563, ...   \n",
       "1   13.446903  {'type': 'Point', 'coordinates': (13.4469031, ...   \n",
       "2   13.388610  {'type': 'Point', 'coordinates': (13.38861, 52...   \n",
       "3    2.328385  {'type': 'Point', 'coordinates': (2.3283853, 4...   \n",
       "4    2.379783  {'type': 'Point', 'coordinates': (2.3797825, 4...   \n",
       "5    2.288319  {'type': 'Point', 'coordinates': (2.288319, 48...   \n",
       "6    2.321074  {'type': 'Point', 'coordinates': (2.3210737, 4...   \n",
       "7    2.369803  {'type': 'Point', 'coordinates': (2.3698033, 4...   \n",
       "8    2.298337  {'type': 'Point', 'coordinates': (2.2983373, 4...   \n",
       "9    2.330416  {'type': 'Point', 'coordinates': (2.3304161, 4...   \n",
       "10   2.324782  {'type': 'Point', 'coordinates': (2.324782, 48...   \n",
       "11   4.851696  {'type': 'Point', 'coordinates': (4.8516964, 5...   \n",
       "12   4.870312  {'type': 'Point', 'coordinates': (4.870312, 52...   \n",
       "13   4.890935  {'type': 'Point', 'coordinates': (4.8909347, 5...   \n",
       "\n",
       "                                           city_coord  \n",
       "0                              Berlin, 10117, Germany  \n",
       "1                              Berlin, 10117, Germany  \n",
       "2                              Berlin, 10117, Germany  \n",
       "3   Paris, Ile-de-France, Metropolitan France, France  \n",
       "4   Paris, Ile-de-France, Metropolitan France, France  \n",
       "5   Paris, Ile-de-France, Metropolitan France, France  \n",
       "6   Paris, Ile-de-France, Metropolitan France, France  \n",
       "7   Paris, Ile-de-France, Metropolitan France, France  \n",
       "8   Paris, Ile-de-France, Metropolitan France, France  \n",
       "9   Paris, Ile-de-France, Metropolitan France, France  \n",
       "10  Paris, Ile-de-France, Metropolitan France, France  \n",
       "11              Amsterdam, North Holland, Netherlands  \n",
       "12              Amsterdam, North Holland, Netherlands  \n",
       "13              Amsterdam, North Holland, Netherlands  "
      ]
     },
     "execution_count": 5,
     "metadata": {},
     "output_type": "execute_result"
    }
   ],
   "source": [
    "df"
   ]
  },
  {
   "cell_type": "code",
   "execution_count": 8,
   "id": "e71d7820",
   "metadata": {},
   "outputs": [],
   "source": [
    "import ast"
   ]
  },
  {
   "cell_type": "code",
   "execution_count": 16,
   "id": "4dfae8f1",
   "metadata": {},
   "outputs": [
    {
     "name": "stdout",
     "output_type": "stream",
     "text": [
      "[13.4124563, 52.5283614]\n",
      "[13.4469031, 52.4986199]\n",
      "[13.38861, 52.4897]\n",
      "[2.3283853, 48.8780596]\n",
      "[2.3797825, 48.8506065]\n",
      "[2.288319, 48.8943115]\n",
      "[2.3210737, 48.8745951]\n",
      "[2.3698033, 48.8502056]\n",
      "[2.2983373, 48.8752305]\n",
      "[2.3304161, 48.8747064]\n",
      "[2.324782, 48.86931]\n",
      "[4.8516964, 52.3965603]\n",
      "[4.870312, 52.340609]\n",
      "[4.8909347, 52.3738007]\n"
     ]
    },
    {
     "data": {
      "text/plain": [
       "0     {'type': 'Point', 'coordinates': (13.4124563, ...\n",
       "1     {'type': 'Point', 'coordinates': (13.4469031, ...\n",
       "2     {'type': 'Point', 'coordinates': (13.38861, 52...\n",
       "3     {'type': 'Point', 'coordinates': (2.3283853, 4...\n",
       "4     {'type': 'Point', 'coordinates': (2.3797825, 4...\n",
       "5     {'type': 'Point', 'coordinates': (2.288319, 48...\n",
       "6     {'type': 'Point', 'coordinates': (2.3210737, 4...\n",
       "7     {'type': 'Point', 'coordinates': (2.3698033, 4...\n",
       "8     {'type': 'Point', 'coordinates': (2.2983373, 4...\n",
       "9     {'type': 'Point', 'coordinates': (2.3304161, 4...\n",
       "10    {'type': 'Point', 'coordinates': (2.324782, 48...\n",
       "11    {'type': 'Point', 'coordinates': (4.8516964, 5...\n",
       "12    {'type': 'Point', 'coordinates': (4.870312, 52...\n",
       "13    {'type': 'Point', 'coordinates': (4.8909347, 5...\n",
       "Name: geometry, dtype: object"
      ]
     },
     "execution_count": 16,
     "metadata": {},
     "output_type": "execute_result"
    }
   ],
   "source": [
    "for each in df.geometry:\n",
    "    each = ast.literal_eval(each)\n",
    "    each['new'] = list(each['coordinates'])\n",
    "    print(each['new'])\n"
   ]
  },
  {
   "cell_type": "code",
   "execution_count": 10,
   "id": "9f9194e6",
   "metadata": {},
   "outputs": [],
   "source": [
    "berlin_offices = df.iloc[:3,6]"
   ]
  },
  {
   "cell_type": "code",
   "execution_count": 11,
   "id": "a280eef3",
   "metadata": {},
   "outputs": [],
   "source": [
    "paris_offices = df.iloc[3:11,6]"
   ]
  },
  {
   "cell_type": "code",
   "execution_count": 12,
   "id": "f967d741",
   "metadata": {},
   "outputs": [],
   "source": [
    "amsterdam_offices = df.iloc[11:,6]"
   ]
  },
  {
   "cell_type": "code",
   "execution_count": 13,
   "id": "4a509249",
   "metadata": {},
   "outputs": [
    {
     "data": {
      "text/plain": [
       "0     {'type': 'Point', 'coordinates': (13.4124563, ...\n",
       "1     {'type': 'Point', 'coordinates': (13.4469031, ...\n",
       "2     {'type': 'Point', 'coordinates': (13.38861, 52...\n",
       "3     {'type': 'Point', 'coordinates': (2.3283853, 4...\n",
       "4     {'type': 'Point', 'coordinates': (2.3797825, 4...\n",
       "5     {'type': 'Point', 'coordinates': (2.288319, 48...\n",
       "6     {'type': 'Point', 'coordinates': (2.3210737, 4...\n",
       "7     {'type': 'Point', 'coordinates': (2.3698033, 4...\n",
       "8     {'type': 'Point', 'coordinates': (2.2983373, 4...\n",
       "9     {'type': 'Point', 'coordinates': (2.3304161, 4...\n",
       "10    {'type': 'Point', 'coordinates': (2.324782, 48...\n",
       "11    {'type': 'Point', 'coordinates': (4.8516964, 5...\n",
       "12    {'type': 'Point', 'coordinates': (4.870312, 52...\n",
       "13    {'type': 'Point', 'coordinates': (4.8909347, 5...\n",
       "Name: geometry, dtype: object"
      ]
     },
     "execution_count": 13,
     "metadata": {},
     "output_type": "execute_result"
    }
   ],
   "source": [
    "df.geometry"
   ]
  },
  {
   "cell_type": "code",
   "execution_count": 87,
   "id": "28a8134c",
   "metadata": {},
   "outputs": [
    {
     "ename": "OperationFailure",
     "evalue": "error processing query: ns=ironhack.hqreq_berlinTree: GEONEAR  field=location maxdist=2000 isNearSphere=0\nSort: {}\nProj: {}\n planner returned error :: caused by :: unable to find index for $geoNear query, full error: {'ok': 0.0, 'errmsg': 'error processing query: ns=ironhack.hqreq_berlinTree: GEONEAR  field=location maxdist=2000 isNearSphere=0\\nSort: {}\\nProj: {}\\n planner returned error :: caused by :: unable to find index for $geoNear query', 'code': 291, 'codeName': 'NoQueryExecutionPlans'}",
     "output_type": "error",
     "traceback": [
      "\u001b[0;31m---------------------------------------------------------------------------\u001b[0m",
      "\u001b[0;31mOperationFailure\u001b[0m                          Traceback (most recent call last)",
      "\u001b[0;32m<ipython-input-87-839effd47c7d>\u001b[0m in \u001b[0;36m<module>\u001b[0;34m\u001b[0m\n\u001b[1;32m      4\u001b[0m     \u001b[0moffice_loc\u001b[0m\u001b[0;34m[\u001b[0m\u001b[0;34m'coordinates'\u001b[0m\u001b[0;34m]\u001b[0m \u001b[0;34m=\u001b[0m \u001b[0mlist\u001b[0m\u001b[0;34m(\u001b[0m\u001b[0moffice_loc\u001b[0m\u001b[0;34m[\u001b[0m\u001b[0;34m'coordinates'\u001b[0m\u001b[0;34m]\u001b[0m\u001b[0;34m)\u001b[0m\u001b[0;34m\u001b[0m\u001b[0;34m\u001b[0m\u001b[0m\n\u001b[1;32m      5\u001b[0m     \u001b[0mq1\u001b[0m \u001b[0;34m=\u001b[0m \u001b[0;34m{\u001b[0m\u001b[0;34m\"location\"\u001b[0m\u001b[0;34m:\u001b[0m \u001b[0;34m{\u001b[0m\u001b[0;34m\"$near\"\u001b[0m\u001b[0;34m:\u001b[0m \u001b[0;34m{\u001b[0m\u001b[0;34m\"$geometry\"\u001b[0m\u001b[0;34m:\u001b[0m \u001b[0moffice_loc\u001b[0m\u001b[0;34m,\u001b[0m \u001b[0;34m\"$maxDistance\"\u001b[0m\u001b[0;34m:\u001b[0m \u001b[0;36m2000\u001b[0m\u001b[0;34m}\u001b[0m\u001b[0;34m}\u001b[0m\u001b[0;34m}\u001b[0m\u001b[0;34m\u001b[0m\u001b[0;34m\u001b[0m\u001b[0m\n\u001b[0;32m----> 6\u001b[0;31m     \u001b[0mberlin_\u001b[0m \u001b[0;34m=\u001b[0m \u001b[0mlist\u001b[0m\u001b[0;34m(\u001b[0m\u001b[0mberlin\u001b[0m\u001b[0;34m.\u001b[0m\u001b[0mfind\u001b[0m\u001b[0;34m(\u001b[0m\u001b[0mq1\u001b[0m\u001b[0;34m)\u001b[0m\u001b[0;34m)\u001b[0m\u001b[0;34m\u001b[0m\u001b[0;34m\u001b[0m\u001b[0m\n\u001b[0m\u001b[1;32m      7\u001b[0m \u001b[0;34m\u001b[0m\u001b[0m\n",
      "\u001b[0;32m/usr/local/Caskroom/miniconda/base/envs/ironhack/lib/python3.8/site-packages/pymongo/cursor.py\u001b[0m in \u001b[0;36mnext\u001b[0;34m(self)\u001b[0m\n\u001b[1;32m   1205\u001b[0m         \u001b[0;32mif\u001b[0m \u001b[0mself\u001b[0m\u001b[0;34m.\u001b[0m\u001b[0m__empty\u001b[0m\u001b[0;34m:\u001b[0m\u001b[0;34m\u001b[0m\u001b[0;34m\u001b[0m\u001b[0m\n\u001b[1;32m   1206\u001b[0m             \u001b[0;32mraise\u001b[0m \u001b[0mStopIteration\u001b[0m\u001b[0;34m\u001b[0m\u001b[0;34m\u001b[0m\u001b[0m\n\u001b[0;32m-> 1207\u001b[0;31m         \u001b[0;32mif\u001b[0m \u001b[0mlen\u001b[0m\u001b[0;34m(\u001b[0m\u001b[0mself\u001b[0m\u001b[0;34m.\u001b[0m\u001b[0m__data\u001b[0m\u001b[0;34m)\u001b[0m \u001b[0;32mor\u001b[0m \u001b[0mself\u001b[0m\u001b[0;34m.\u001b[0m\u001b[0m_refresh\u001b[0m\u001b[0;34m(\u001b[0m\u001b[0;34m)\u001b[0m\u001b[0;34m:\u001b[0m\u001b[0;34m\u001b[0m\u001b[0;34m\u001b[0m\u001b[0m\n\u001b[0m\u001b[1;32m   1208\u001b[0m             \u001b[0;32mif\u001b[0m \u001b[0mself\u001b[0m\u001b[0;34m.\u001b[0m\u001b[0m__manipulate\u001b[0m\u001b[0;34m:\u001b[0m\u001b[0;34m\u001b[0m\u001b[0;34m\u001b[0m\u001b[0m\n\u001b[1;32m   1209\u001b[0m                 \u001b[0m_db\u001b[0m \u001b[0;34m=\u001b[0m \u001b[0mself\u001b[0m\u001b[0;34m.\u001b[0m\u001b[0m__collection\u001b[0m\u001b[0;34m.\u001b[0m\u001b[0mdatabase\u001b[0m\u001b[0;34m\u001b[0m\u001b[0;34m\u001b[0m\u001b[0m\n",
      "\u001b[0;32m/usr/local/Caskroom/miniconda/base/envs/ironhack/lib/python3.8/site-packages/pymongo/cursor.py\u001b[0m in \u001b[0;36m_refresh\u001b[0;34m(self)\u001b[0m\n\u001b[1;32m   1122\u001b[0m                                   \u001b[0mself\u001b[0m\u001b[0;34m.\u001b[0m\u001b[0m__collection\u001b[0m\u001b[0;34m.\u001b[0m\u001b[0mdatabase\u001b[0m\u001b[0;34m.\u001b[0m\u001b[0mclient\u001b[0m\u001b[0;34m,\u001b[0m\u001b[0;34m\u001b[0m\u001b[0;34m\u001b[0m\u001b[0m\n\u001b[1;32m   1123\u001b[0m                                   self.__allow_disk_use)\n\u001b[0;32m-> 1124\u001b[0;31m             \u001b[0mself\u001b[0m\u001b[0;34m.\u001b[0m\u001b[0m__send_message\u001b[0m\u001b[0;34m(\u001b[0m\u001b[0mq\u001b[0m\u001b[0;34m)\u001b[0m\u001b[0;34m\u001b[0m\u001b[0;34m\u001b[0m\u001b[0m\n\u001b[0m\u001b[1;32m   1125\u001b[0m         \u001b[0;32melif\u001b[0m \u001b[0mself\u001b[0m\u001b[0;34m.\u001b[0m\u001b[0m__id\u001b[0m\u001b[0;34m:\u001b[0m  \u001b[0;31m# Get More\u001b[0m\u001b[0;34m\u001b[0m\u001b[0;34m\u001b[0m\u001b[0m\n\u001b[1;32m   1126\u001b[0m             \u001b[0;32mif\u001b[0m \u001b[0mself\u001b[0m\u001b[0;34m.\u001b[0m\u001b[0m__limit\u001b[0m\u001b[0;34m:\u001b[0m\u001b[0;34m\u001b[0m\u001b[0;34m\u001b[0m\u001b[0m\n",
      "\u001b[0;32m/usr/local/Caskroom/miniconda/base/envs/ironhack/lib/python3.8/site-packages/pymongo/cursor.py\u001b[0m in \u001b[0;36m__send_message\u001b[0;34m(self, operation)\u001b[0m\n\u001b[1;32m    997\u001b[0m \u001b[0;34m\u001b[0m\u001b[0m\n\u001b[1;32m    998\u001b[0m         \u001b[0;32mtry\u001b[0m\u001b[0;34m:\u001b[0m\u001b[0;34m\u001b[0m\u001b[0;34m\u001b[0m\u001b[0m\n\u001b[0;32m--> 999\u001b[0;31m             response = client._run_operation_with_response(\n\u001b[0m\u001b[1;32m   1000\u001b[0m                 \u001b[0moperation\u001b[0m\u001b[0;34m,\u001b[0m \u001b[0mself\u001b[0m\u001b[0;34m.\u001b[0m\u001b[0m_unpack_response\u001b[0m\u001b[0;34m,\u001b[0m \u001b[0mexhaust\u001b[0m\u001b[0;34m=\u001b[0m\u001b[0mself\u001b[0m\u001b[0;34m.\u001b[0m\u001b[0m__exhaust\u001b[0m\u001b[0;34m,\u001b[0m\u001b[0;34m\u001b[0m\u001b[0;34m\u001b[0m\u001b[0m\n\u001b[1;32m   1001\u001b[0m                 address=self.__address)\n",
      "\u001b[0;32m/usr/local/Caskroom/miniconda/base/envs/ironhack/lib/python3.8/site-packages/pymongo/mongo_client.py\u001b[0m in \u001b[0;36m_run_operation_with_response\u001b[0;34m(self, operation, unpack_res, exhaust, address)\u001b[0m\n\u001b[1;32m   1366\u001b[0m                 unpack_res)\n\u001b[1;32m   1367\u001b[0m \u001b[0;34m\u001b[0m\u001b[0m\n\u001b[0;32m-> 1368\u001b[0;31m         return self._retryable_read(\n\u001b[0m\u001b[1;32m   1369\u001b[0m             \u001b[0m_cmd\u001b[0m\u001b[0;34m,\u001b[0m \u001b[0moperation\u001b[0m\u001b[0;34m.\u001b[0m\u001b[0mread_preference\u001b[0m\u001b[0;34m,\u001b[0m \u001b[0moperation\u001b[0m\u001b[0;34m.\u001b[0m\u001b[0msession\u001b[0m\u001b[0;34m,\u001b[0m\u001b[0;34m\u001b[0m\u001b[0;34m\u001b[0m\u001b[0m\n\u001b[1;32m   1370\u001b[0m             \u001b[0maddress\u001b[0m\u001b[0;34m=\u001b[0m\u001b[0maddress\u001b[0m\u001b[0;34m,\u001b[0m\u001b[0;34m\u001b[0m\u001b[0;34m\u001b[0m\u001b[0m\n",
      "\u001b[0;32m/usr/local/Caskroom/miniconda/base/envs/ironhack/lib/python3.8/site-packages/pymongo/mongo_client.py\u001b[0m in \u001b[0;36m_retryable_read\u001b[0;34m(self, func, read_pref, session, address, retryable, exhaust)\u001b[0m\n\u001b[1;32m   1469\u001b[0m                         \u001b[0;31m# not support retryable reads, raise the last error.\u001b[0m\u001b[0;34m\u001b[0m\u001b[0;34m\u001b[0m\u001b[0;34m\u001b[0m\u001b[0m\n\u001b[1;32m   1470\u001b[0m                         \u001b[0;32mraise\u001b[0m \u001b[0mlast_error\u001b[0m\u001b[0;34m\u001b[0m\u001b[0;34m\u001b[0m\u001b[0m\n\u001b[0;32m-> 1471\u001b[0;31m                     \u001b[0;32mreturn\u001b[0m \u001b[0mfunc\u001b[0m\u001b[0;34m(\u001b[0m\u001b[0msession\u001b[0m\u001b[0;34m,\u001b[0m \u001b[0mserver\u001b[0m\u001b[0;34m,\u001b[0m \u001b[0msock_info\u001b[0m\u001b[0;34m,\u001b[0m \u001b[0mslave_ok\u001b[0m\u001b[0;34m)\u001b[0m\u001b[0;34m\u001b[0m\u001b[0;34m\u001b[0m\u001b[0m\n\u001b[0m\u001b[1;32m   1472\u001b[0m             \u001b[0;32mexcept\u001b[0m \u001b[0mServerSelectionTimeoutError\u001b[0m\u001b[0;34m:\u001b[0m\u001b[0;34m\u001b[0m\u001b[0;34m\u001b[0m\u001b[0m\n\u001b[1;32m   1473\u001b[0m                 \u001b[0;32mif\u001b[0m \u001b[0mretrying\u001b[0m\u001b[0;34m:\u001b[0m\u001b[0;34m\u001b[0m\u001b[0;34m\u001b[0m\u001b[0m\n",
      "\u001b[0;32m/usr/local/Caskroom/miniconda/base/envs/ironhack/lib/python3.8/site-packages/pymongo/mongo_client.py\u001b[0m in \u001b[0;36m_cmd\u001b[0;34m(session, server, sock_info, slave_ok)\u001b[0m\n\u001b[1;32m   1358\u001b[0m \u001b[0;34m\u001b[0m\u001b[0m\n\u001b[1;32m   1359\u001b[0m         \u001b[0;32mdef\u001b[0m \u001b[0m_cmd\u001b[0m\u001b[0;34m(\u001b[0m\u001b[0msession\u001b[0m\u001b[0;34m,\u001b[0m \u001b[0mserver\u001b[0m\u001b[0;34m,\u001b[0m \u001b[0msock_info\u001b[0m\u001b[0;34m,\u001b[0m \u001b[0mslave_ok\u001b[0m\u001b[0;34m)\u001b[0m\u001b[0;34m:\u001b[0m\u001b[0;34m\u001b[0m\u001b[0;34m\u001b[0m\u001b[0m\n\u001b[0;32m-> 1360\u001b[0;31m             return server.run_operation_with_response(\n\u001b[0m\u001b[1;32m   1361\u001b[0m                 \u001b[0msock_info\u001b[0m\u001b[0;34m,\u001b[0m\u001b[0;34m\u001b[0m\u001b[0;34m\u001b[0m\u001b[0m\n\u001b[1;32m   1362\u001b[0m                 \u001b[0moperation\u001b[0m\u001b[0;34m,\u001b[0m\u001b[0;34m\u001b[0m\u001b[0;34m\u001b[0m\u001b[0m\n",
      "\u001b[0;32m/usr/local/Caskroom/miniconda/base/envs/ironhack/lib/python3.8/site-packages/pymongo/server.py\u001b[0m in \u001b[0;36mrun_operation_with_response\u001b[0;34m(self, sock_info, operation, set_slave_okay, listeners, exhaust, unpack_res)\u001b[0m\n\u001b[1;32m    133\u001b[0m                 \u001b[0mfirst\u001b[0m \u001b[0;34m=\u001b[0m \u001b[0mdocs\u001b[0m\u001b[0;34m[\u001b[0m\u001b[0;36m0\u001b[0m\u001b[0;34m]\u001b[0m\u001b[0;34m\u001b[0m\u001b[0;34m\u001b[0m\u001b[0m\n\u001b[1;32m    134\u001b[0m                 \u001b[0moperation\u001b[0m\u001b[0;34m.\u001b[0m\u001b[0mclient\u001b[0m\u001b[0;34m.\u001b[0m\u001b[0m_process_response\u001b[0m\u001b[0;34m(\u001b[0m\u001b[0mfirst\u001b[0m\u001b[0;34m,\u001b[0m \u001b[0moperation\u001b[0m\u001b[0;34m.\u001b[0m\u001b[0msession\u001b[0m\u001b[0;34m)\u001b[0m\u001b[0;34m\u001b[0m\u001b[0;34m\u001b[0m\u001b[0m\n\u001b[0;32m--> 135\u001b[0;31m                 \u001b[0m_check_command_response\u001b[0m\u001b[0;34m(\u001b[0m\u001b[0mfirst\u001b[0m\u001b[0;34m,\u001b[0m \u001b[0msock_info\u001b[0m\u001b[0;34m.\u001b[0m\u001b[0mmax_wire_version\u001b[0m\u001b[0;34m)\u001b[0m\u001b[0;34m\u001b[0m\u001b[0;34m\u001b[0m\u001b[0m\n\u001b[0m\u001b[1;32m    136\u001b[0m         \u001b[0;32mexcept\u001b[0m \u001b[0mException\u001b[0m \u001b[0;32mas\u001b[0m \u001b[0mexc\u001b[0m\u001b[0;34m:\u001b[0m\u001b[0;34m\u001b[0m\u001b[0;34m\u001b[0m\u001b[0m\n\u001b[1;32m    137\u001b[0m             \u001b[0;32mif\u001b[0m \u001b[0mpublish\u001b[0m\u001b[0;34m:\u001b[0m\u001b[0;34m\u001b[0m\u001b[0;34m\u001b[0m\u001b[0m\n",
      "\u001b[0;32m/usr/local/Caskroom/miniconda/base/envs/ironhack/lib/python3.8/site-packages/pymongo/helpers.py\u001b[0m in \u001b[0;36m_check_command_response\u001b[0;34m(response, max_wire_version, allowable_errors, parse_write_concern_error)\u001b[0m\n\u001b[1;32m    158\u001b[0m         \u001b[0;32mraise\u001b[0m \u001b[0mCursorNotFound\u001b[0m\u001b[0;34m(\u001b[0m\u001b[0merrmsg\u001b[0m\u001b[0;34m,\u001b[0m \u001b[0mcode\u001b[0m\u001b[0;34m,\u001b[0m \u001b[0mresponse\u001b[0m\u001b[0;34m,\u001b[0m \u001b[0mmax_wire_version\u001b[0m\u001b[0;34m)\u001b[0m\u001b[0;34m\u001b[0m\u001b[0;34m\u001b[0m\u001b[0m\n\u001b[1;32m    159\u001b[0m \u001b[0;34m\u001b[0m\u001b[0m\n\u001b[0;32m--> 160\u001b[0;31m     \u001b[0;32mraise\u001b[0m \u001b[0mOperationFailure\u001b[0m\u001b[0;34m(\u001b[0m\u001b[0merrmsg\u001b[0m\u001b[0;34m,\u001b[0m \u001b[0mcode\u001b[0m\u001b[0;34m,\u001b[0m \u001b[0mresponse\u001b[0m\u001b[0;34m,\u001b[0m \u001b[0mmax_wire_version\u001b[0m\u001b[0;34m)\u001b[0m\u001b[0;34m\u001b[0m\u001b[0;34m\u001b[0m\u001b[0m\n\u001b[0m\u001b[1;32m    161\u001b[0m \u001b[0;34m\u001b[0m\u001b[0m\n\u001b[1;32m    162\u001b[0m \u001b[0;34m\u001b[0m\u001b[0m\n",
      "\u001b[0;31mOperationFailure\u001b[0m: error processing query: ns=ironhack.hqreq_berlinTree: GEONEAR  field=location maxdist=2000 isNearSphere=0\nSort: {}\nProj: {}\n planner returned error :: caused by :: unable to find index for $geoNear query, full error: {'ok': 0.0, 'errmsg': 'error processing query: ns=ironhack.hqreq_berlinTree: GEONEAR  field=location maxdist=2000 isNearSphere=0\\nSort: {}\\nProj: {}\\n planner returned error :: caused by :: unable to find index for $geoNear query', 'code': 291, 'codeName': 'NoQueryExecutionPlans'}"
     ]
    }
   ],
   "source": [
    "berlin_ = []\n",
    "for office_loc in berlin_offices:\n",
    "    office_loc = ast.literal_eval(office_loc)\n",
    "    office_loc['coordinates'] = list(office_loc['coordinates'])\n",
    "    q1 = {\"location\": {\"$near\": {\"$geometry\": office_loc, \"$maxDistance\": 2000}}}\n",
    "    berlin_ = list(berlin.find(q1))\n",
    "    "
   ]
  },
  {
   "cell_type": "code",
   "execution_count": 73,
   "id": "df99f525",
   "metadata": {
    "scrolled": true
   },
   "outputs": [
    {
     "name": "stdout",
     "output_type": "stream",
     "text": [
      "{'type': 'Point', 'coordinates': [13.4124563, 52.5283614]}\n",
      "{'type': 'Point', 'coordinates': [13.4469031, 52.4986199]}\n",
      "{'type': 'Point', 'coordinates': [13.38861, 52.4897]}\n"
     ]
    }
   ],
   "source": [
    "for office_loc in berlin_offices:\n",
    "    office_loc = ast.literal_eval(office_loc)\n",
    "    office_loc['coordinates'] = list(office_loc['coordinates'])\n",
    "    print(office_loc)\n",
    "    \n"
   ]
  },
  {
   "cell_type": "code",
   "execution_count": 53,
   "id": "8de64282",
   "metadata": {},
   "outputs": [
    {
     "name": "stdout",
     "output_type": "stream",
     "text": [
      "{'type': 'Point', 'coordinates': (13.4124563, 52.5283614)}\n"
     ]
    }
   ],
   "source": [
    "print(office)"
   ]
  },
  {
   "cell_type": "code",
   "execution_count": null,
   "id": "2be4c12a",
   "metadata": {},
   "outputs": [],
   "source": [
    "q1 = {\"location\": {\"$near\": {\"$geometry\": office_loc, \"$maxDistance\": 2000}}}"
   ]
  },
  {
   "cell_type": "code",
   "execution_count": 60,
   "id": "edcac502",
   "metadata": {},
   "outputs": [],
   "source": [
    "off_coord = list(office['coordinates'])"
   ]
  },
  {
   "cell_type": "code",
   "execution_count": 61,
   "id": "95d039dc",
   "metadata": {
    "scrolled": true
   },
   "outputs": [
    {
     "data": {
      "text/plain": [
       "list"
      ]
     },
     "execution_count": 61,
     "metadata": {},
     "output_type": "execute_result"
    }
   ],
   "source": [
    "type(off_coord)"
   ]
  },
  {
   "cell_type": "code",
   "execution_count": 64,
   "id": "0af2ae66",
   "metadata": {},
   "outputs": [
    {
     "data": {
      "text/plain": [
       "[13.4124563, 52.5283614]"
      ]
     },
     "execution_count": 64,
     "metadata": {},
     "output_type": "execute_result"
    }
   ],
   "source": [
    "off_coord"
   ]
  },
  {
   "cell_type": "code",
   "execution_count": 62,
   "id": "35e586da",
   "metadata": {},
   "outputs": [],
   "source": [
    "q1 = {\"location\": {\"$near\": {\"$geometry\": office, \"$maxDistance\": 2000}}}"
   ]
  },
  {
   "cell_type": "code",
   "execution_count": 63,
   "id": "dcea918b",
   "metadata": {},
   "outputs": [
    {
     "ename": "OperationFailure",
     "evalue": "error processing query: ns=ironhack.hqreq_berlinTree: GEONEAR  field=location maxdist=2000 isNearSphere=0\nSort: {}\nProj: {}\n planner returned error :: caused by :: unable to find index for $geoNear query, full error: {'ok': 0.0, 'errmsg': 'error processing query: ns=ironhack.hqreq_berlinTree: GEONEAR  field=location maxdist=2000 isNearSphere=0\\nSort: {}\\nProj: {}\\n planner returned error :: caused by :: unable to find index for $geoNear query', 'code': 291, 'codeName': 'NoQueryExecutionPlans'}",
     "output_type": "error",
     "traceback": [
      "\u001b[0;31m---------------------------------------------------------------------------\u001b[0m",
      "\u001b[0;31mOperationFailure\u001b[0m                          Traceback (most recent call last)",
      "\u001b[0;32m<ipython-input-63-7ea6f6c95349>\u001b[0m in \u001b[0;36m<module>\u001b[0;34m\u001b[0m\n\u001b[0;32m----> 1\u001b[0;31m \u001b[0mberlin_\u001b[0m \u001b[0;34m=\u001b[0m \u001b[0mlist\u001b[0m\u001b[0;34m(\u001b[0m\u001b[0mberlin\u001b[0m\u001b[0;34m.\u001b[0m\u001b[0mfind\u001b[0m\u001b[0;34m(\u001b[0m\u001b[0mq1\u001b[0m\u001b[0;34m)\u001b[0m\u001b[0;34m)\u001b[0m\u001b[0;34m\u001b[0m\u001b[0;34m\u001b[0m\u001b[0m\n\u001b[0m",
      "\u001b[0;32m/usr/local/Caskroom/miniconda/base/envs/ironhack/lib/python3.8/site-packages/pymongo/cursor.py\u001b[0m in \u001b[0;36mnext\u001b[0;34m(self)\u001b[0m\n\u001b[1;32m   1205\u001b[0m         \u001b[0;32mif\u001b[0m \u001b[0mself\u001b[0m\u001b[0;34m.\u001b[0m\u001b[0m__empty\u001b[0m\u001b[0;34m:\u001b[0m\u001b[0;34m\u001b[0m\u001b[0;34m\u001b[0m\u001b[0m\n\u001b[1;32m   1206\u001b[0m             \u001b[0;32mraise\u001b[0m \u001b[0mStopIteration\u001b[0m\u001b[0;34m\u001b[0m\u001b[0;34m\u001b[0m\u001b[0m\n\u001b[0;32m-> 1207\u001b[0;31m         \u001b[0;32mif\u001b[0m \u001b[0mlen\u001b[0m\u001b[0;34m(\u001b[0m\u001b[0mself\u001b[0m\u001b[0;34m.\u001b[0m\u001b[0m__data\u001b[0m\u001b[0;34m)\u001b[0m \u001b[0;32mor\u001b[0m \u001b[0mself\u001b[0m\u001b[0;34m.\u001b[0m\u001b[0m_refresh\u001b[0m\u001b[0;34m(\u001b[0m\u001b[0;34m)\u001b[0m\u001b[0;34m:\u001b[0m\u001b[0;34m\u001b[0m\u001b[0;34m\u001b[0m\u001b[0m\n\u001b[0m\u001b[1;32m   1208\u001b[0m             \u001b[0;32mif\u001b[0m \u001b[0mself\u001b[0m\u001b[0;34m.\u001b[0m\u001b[0m__manipulate\u001b[0m\u001b[0;34m:\u001b[0m\u001b[0;34m\u001b[0m\u001b[0;34m\u001b[0m\u001b[0m\n\u001b[1;32m   1209\u001b[0m                 \u001b[0m_db\u001b[0m \u001b[0;34m=\u001b[0m \u001b[0mself\u001b[0m\u001b[0;34m.\u001b[0m\u001b[0m__collection\u001b[0m\u001b[0;34m.\u001b[0m\u001b[0mdatabase\u001b[0m\u001b[0;34m\u001b[0m\u001b[0;34m\u001b[0m\u001b[0m\n",
      "\u001b[0;32m/usr/local/Caskroom/miniconda/base/envs/ironhack/lib/python3.8/site-packages/pymongo/cursor.py\u001b[0m in \u001b[0;36m_refresh\u001b[0;34m(self)\u001b[0m\n\u001b[1;32m   1122\u001b[0m                                   \u001b[0mself\u001b[0m\u001b[0;34m.\u001b[0m\u001b[0m__collection\u001b[0m\u001b[0;34m.\u001b[0m\u001b[0mdatabase\u001b[0m\u001b[0;34m.\u001b[0m\u001b[0mclient\u001b[0m\u001b[0;34m,\u001b[0m\u001b[0;34m\u001b[0m\u001b[0;34m\u001b[0m\u001b[0m\n\u001b[1;32m   1123\u001b[0m                                   self.__allow_disk_use)\n\u001b[0;32m-> 1124\u001b[0;31m             \u001b[0mself\u001b[0m\u001b[0;34m.\u001b[0m\u001b[0m__send_message\u001b[0m\u001b[0;34m(\u001b[0m\u001b[0mq\u001b[0m\u001b[0;34m)\u001b[0m\u001b[0;34m\u001b[0m\u001b[0;34m\u001b[0m\u001b[0m\n\u001b[0m\u001b[1;32m   1125\u001b[0m         \u001b[0;32melif\u001b[0m \u001b[0mself\u001b[0m\u001b[0;34m.\u001b[0m\u001b[0m__id\u001b[0m\u001b[0;34m:\u001b[0m  \u001b[0;31m# Get More\u001b[0m\u001b[0;34m\u001b[0m\u001b[0;34m\u001b[0m\u001b[0m\n\u001b[1;32m   1126\u001b[0m             \u001b[0;32mif\u001b[0m \u001b[0mself\u001b[0m\u001b[0;34m.\u001b[0m\u001b[0m__limit\u001b[0m\u001b[0;34m:\u001b[0m\u001b[0;34m\u001b[0m\u001b[0;34m\u001b[0m\u001b[0m\n",
      "\u001b[0;32m/usr/local/Caskroom/miniconda/base/envs/ironhack/lib/python3.8/site-packages/pymongo/cursor.py\u001b[0m in \u001b[0;36m__send_message\u001b[0;34m(self, operation)\u001b[0m\n\u001b[1;32m    997\u001b[0m \u001b[0;34m\u001b[0m\u001b[0m\n\u001b[1;32m    998\u001b[0m         \u001b[0;32mtry\u001b[0m\u001b[0;34m:\u001b[0m\u001b[0;34m\u001b[0m\u001b[0;34m\u001b[0m\u001b[0m\n\u001b[0;32m--> 999\u001b[0;31m             response = client._run_operation_with_response(\n\u001b[0m\u001b[1;32m   1000\u001b[0m                 \u001b[0moperation\u001b[0m\u001b[0;34m,\u001b[0m \u001b[0mself\u001b[0m\u001b[0;34m.\u001b[0m\u001b[0m_unpack_response\u001b[0m\u001b[0;34m,\u001b[0m \u001b[0mexhaust\u001b[0m\u001b[0;34m=\u001b[0m\u001b[0mself\u001b[0m\u001b[0;34m.\u001b[0m\u001b[0m__exhaust\u001b[0m\u001b[0;34m,\u001b[0m\u001b[0;34m\u001b[0m\u001b[0;34m\u001b[0m\u001b[0m\n\u001b[1;32m   1001\u001b[0m                 address=self.__address)\n",
      "\u001b[0;32m/usr/local/Caskroom/miniconda/base/envs/ironhack/lib/python3.8/site-packages/pymongo/mongo_client.py\u001b[0m in \u001b[0;36m_run_operation_with_response\u001b[0;34m(self, operation, unpack_res, exhaust, address)\u001b[0m\n\u001b[1;32m   1366\u001b[0m                 unpack_res)\n\u001b[1;32m   1367\u001b[0m \u001b[0;34m\u001b[0m\u001b[0m\n\u001b[0;32m-> 1368\u001b[0;31m         return self._retryable_read(\n\u001b[0m\u001b[1;32m   1369\u001b[0m             \u001b[0m_cmd\u001b[0m\u001b[0;34m,\u001b[0m \u001b[0moperation\u001b[0m\u001b[0;34m.\u001b[0m\u001b[0mread_preference\u001b[0m\u001b[0;34m,\u001b[0m \u001b[0moperation\u001b[0m\u001b[0;34m.\u001b[0m\u001b[0msession\u001b[0m\u001b[0;34m,\u001b[0m\u001b[0;34m\u001b[0m\u001b[0;34m\u001b[0m\u001b[0m\n\u001b[1;32m   1370\u001b[0m             \u001b[0maddress\u001b[0m\u001b[0;34m=\u001b[0m\u001b[0maddress\u001b[0m\u001b[0;34m,\u001b[0m\u001b[0;34m\u001b[0m\u001b[0;34m\u001b[0m\u001b[0m\n",
      "\u001b[0;32m/usr/local/Caskroom/miniconda/base/envs/ironhack/lib/python3.8/site-packages/pymongo/mongo_client.py\u001b[0m in \u001b[0;36m_retryable_read\u001b[0;34m(self, func, read_pref, session, address, retryable, exhaust)\u001b[0m\n\u001b[1;32m   1469\u001b[0m                         \u001b[0;31m# not support retryable reads, raise the last error.\u001b[0m\u001b[0;34m\u001b[0m\u001b[0;34m\u001b[0m\u001b[0;34m\u001b[0m\u001b[0m\n\u001b[1;32m   1470\u001b[0m                         \u001b[0;32mraise\u001b[0m \u001b[0mlast_error\u001b[0m\u001b[0;34m\u001b[0m\u001b[0;34m\u001b[0m\u001b[0m\n\u001b[0;32m-> 1471\u001b[0;31m                     \u001b[0;32mreturn\u001b[0m \u001b[0mfunc\u001b[0m\u001b[0;34m(\u001b[0m\u001b[0msession\u001b[0m\u001b[0;34m,\u001b[0m \u001b[0mserver\u001b[0m\u001b[0;34m,\u001b[0m \u001b[0msock_info\u001b[0m\u001b[0;34m,\u001b[0m \u001b[0mslave_ok\u001b[0m\u001b[0;34m)\u001b[0m\u001b[0;34m\u001b[0m\u001b[0;34m\u001b[0m\u001b[0m\n\u001b[0m\u001b[1;32m   1472\u001b[0m             \u001b[0;32mexcept\u001b[0m \u001b[0mServerSelectionTimeoutError\u001b[0m\u001b[0;34m:\u001b[0m\u001b[0;34m\u001b[0m\u001b[0;34m\u001b[0m\u001b[0m\n\u001b[1;32m   1473\u001b[0m                 \u001b[0;32mif\u001b[0m \u001b[0mretrying\u001b[0m\u001b[0;34m:\u001b[0m\u001b[0;34m\u001b[0m\u001b[0;34m\u001b[0m\u001b[0m\n",
      "\u001b[0;32m/usr/local/Caskroom/miniconda/base/envs/ironhack/lib/python3.8/site-packages/pymongo/mongo_client.py\u001b[0m in \u001b[0;36m_cmd\u001b[0;34m(session, server, sock_info, slave_ok)\u001b[0m\n\u001b[1;32m   1358\u001b[0m \u001b[0;34m\u001b[0m\u001b[0m\n\u001b[1;32m   1359\u001b[0m         \u001b[0;32mdef\u001b[0m \u001b[0m_cmd\u001b[0m\u001b[0;34m(\u001b[0m\u001b[0msession\u001b[0m\u001b[0;34m,\u001b[0m \u001b[0mserver\u001b[0m\u001b[0;34m,\u001b[0m \u001b[0msock_info\u001b[0m\u001b[0;34m,\u001b[0m \u001b[0mslave_ok\u001b[0m\u001b[0;34m)\u001b[0m\u001b[0;34m:\u001b[0m\u001b[0;34m\u001b[0m\u001b[0;34m\u001b[0m\u001b[0m\n\u001b[0;32m-> 1360\u001b[0;31m             return server.run_operation_with_response(\n\u001b[0m\u001b[1;32m   1361\u001b[0m                 \u001b[0msock_info\u001b[0m\u001b[0;34m,\u001b[0m\u001b[0;34m\u001b[0m\u001b[0;34m\u001b[0m\u001b[0m\n\u001b[1;32m   1362\u001b[0m                 \u001b[0moperation\u001b[0m\u001b[0;34m,\u001b[0m\u001b[0;34m\u001b[0m\u001b[0;34m\u001b[0m\u001b[0m\n",
      "\u001b[0;32m/usr/local/Caskroom/miniconda/base/envs/ironhack/lib/python3.8/site-packages/pymongo/server.py\u001b[0m in \u001b[0;36mrun_operation_with_response\u001b[0;34m(self, sock_info, operation, set_slave_okay, listeners, exhaust, unpack_res)\u001b[0m\n\u001b[1;32m    133\u001b[0m                 \u001b[0mfirst\u001b[0m \u001b[0;34m=\u001b[0m \u001b[0mdocs\u001b[0m\u001b[0;34m[\u001b[0m\u001b[0;36m0\u001b[0m\u001b[0;34m]\u001b[0m\u001b[0;34m\u001b[0m\u001b[0;34m\u001b[0m\u001b[0m\n\u001b[1;32m    134\u001b[0m                 \u001b[0moperation\u001b[0m\u001b[0;34m.\u001b[0m\u001b[0mclient\u001b[0m\u001b[0;34m.\u001b[0m\u001b[0m_process_response\u001b[0m\u001b[0;34m(\u001b[0m\u001b[0mfirst\u001b[0m\u001b[0;34m,\u001b[0m \u001b[0moperation\u001b[0m\u001b[0;34m.\u001b[0m\u001b[0msession\u001b[0m\u001b[0;34m)\u001b[0m\u001b[0;34m\u001b[0m\u001b[0;34m\u001b[0m\u001b[0m\n\u001b[0;32m--> 135\u001b[0;31m                 \u001b[0m_check_command_response\u001b[0m\u001b[0;34m(\u001b[0m\u001b[0mfirst\u001b[0m\u001b[0;34m,\u001b[0m \u001b[0msock_info\u001b[0m\u001b[0;34m.\u001b[0m\u001b[0mmax_wire_version\u001b[0m\u001b[0;34m)\u001b[0m\u001b[0;34m\u001b[0m\u001b[0;34m\u001b[0m\u001b[0m\n\u001b[0m\u001b[1;32m    136\u001b[0m         \u001b[0;32mexcept\u001b[0m \u001b[0mException\u001b[0m \u001b[0;32mas\u001b[0m \u001b[0mexc\u001b[0m\u001b[0;34m:\u001b[0m\u001b[0;34m\u001b[0m\u001b[0;34m\u001b[0m\u001b[0m\n\u001b[1;32m    137\u001b[0m             \u001b[0;32mif\u001b[0m \u001b[0mpublish\u001b[0m\u001b[0;34m:\u001b[0m\u001b[0;34m\u001b[0m\u001b[0;34m\u001b[0m\u001b[0m\n",
      "\u001b[0;32m/usr/local/Caskroom/miniconda/base/envs/ironhack/lib/python3.8/site-packages/pymongo/helpers.py\u001b[0m in \u001b[0;36m_check_command_response\u001b[0;34m(response, max_wire_version, allowable_errors, parse_write_concern_error)\u001b[0m\n\u001b[1;32m    158\u001b[0m         \u001b[0;32mraise\u001b[0m \u001b[0mCursorNotFound\u001b[0m\u001b[0;34m(\u001b[0m\u001b[0merrmsg\u001b[0m\u001b[0;34m,\u001b[0m \u001b[0mcode\u001b[0m\u001b[0;34m,\u001b[0m \u001b[0mresponse\u001b[0m\u001b[0;34m,\u001b[0m \u001b[0mmax_wire_version\u001b[0m\u001b[0;34m)\u001b[0m\u001b[0;34m\u001b[0m\u001b[0;34m\u001b[0m\u001b[0m\n\u001b[1;32m    159\u001b[0m \u001b[0;34m\u001b[0m\u001b[0m\n\u001b[0;32m--> 160\u001b[0;31m     \u001b[0;32mraise\u001b[0m \u001b[0mOperationFailure\u001b[0m\u001b[0;34m(\u001b[0m\u001b[0merrmsg\u001b[0m\u001b[0;34m,\u001b[0m \u001b[0mcode\u001b[0m\u001b[0;34m,\u001b[0m \u001b[0mresponse\u001b[0m\u001b[0;34m,\u001b[0m \u001b[0mmax_wire_version\u001b[0m\u001b[0;34m)\u001b[0m\u001b[0;34m\u001b[0m\u001b[0;34m\u001b[0m\u001b[0m\n\u001b[0m\u001b[1;32m    161\u001b[0m \u001b[0;34m\u001b[0m\u001b[0m\n\u001b[1;32m    162\u001b[0m \u001b[0;34m\u001b[0m\u001b[0m\n",
      "\u001b[0;31mOperationFailure\u001b[0m: error processing query: ns=ironhack.hqreq_berlinTree: GEONEAR  field=location maxdist=2000 isNearSphere=0\nSort: {}\nProj: {}\n planner returned error :: caused by :: unable to find index for $geoNear query, full error: {'ok': 0.0, 'errmsg': 'error processing query: ns=ironhack.hqreq_berlinTree: GEONEAR  field=location maxdist=2000 isNearSphere=0\\nSort: {}\\nProj: {}\\n planner returned error :: caused by :: unable to find index for $geoNear query', 'code': 291, 'codeName': 'NoQueryExecutionPlans'}"
     ]
    }
   ],
   "source": [
    "berlin_ = list(berlin.find(q1))"
   ]
  },
  {
   "cell_type": "code",
   "execution_count": 47,
   "id": "4a46d9d0",
   "metadata": {},
   "outputs": [
    {
     "ename": "ValueError",
     "evalue": "dictionary update sequence element #0 has length 1; 2 is required",
     "output_type": "error",
     "traceback": [
      "\u001b[0;31m---------------------------------------------------------------------------\u001b[0m",
      "\u001b[0;31mValueError\u001b[0m                                Traceback (most recent call last)",
      "\u001b[0;32m<ipython-input-47-84c8acddd907>\u001b[0m in \u001b[0;36m<module>\u001b[0;34m\u001b[0m\n\u001b[1;32m      1\u001b[0m \u001b[0;32mfor\u001b[0m \u001b[0moffice_loc\u001b[0m \u001b[0;32min\u001b[0m \u001b[0mberlin_offices\u001b[0m\u001b[0;34m:\u001b[0m\u001b[0;34m\u001b[0m\u001b[0;34m\u001b[0m\u001b[0m\n\u001b[0;32m----> 2\u001b[0;31m     \u001b[0moffice_loc\u001b[0m \u001b[0;34m=\u001b[0m \u001b[0mdict\u001b[0m\u001b[0;34m(\u001b[0m\u001b[0moffice_loc\u001b[0m\u001b[0;34m)\u001b[0m\u001b[0;34m\u001b[0m\u001b[0;34m\u001b[0m\u001b[0m\n\u001b[0m\u001b[1;32m      3\u001b[0m     \u001b[0mprint\u001b[0m\u001b[0;34m(\u001b[0m\u001b[0moffice_loc\u001b[0m\u001b[0;34m)\u001b[0m\u001b[0;34m\u001b[0m\u001b[0;34m\u001b[0m\u001b[0m\n\u001b[1;32m      4\u001b[0m     \u001b[0mprint\u001b[0m\u001b[0;34m(\u001b[0m\u001b[0mtype\u001b[0m\u001b[0;34m(\u001b[0m\u001b[0moffice_loc\u001b[0m\u001b[0;34m)\u001b[0m\u001b[0;34m)\u001b[0m\u001b[0;34m\u001b[0m\u001b[0;34m\u001b[0m\u001b[0m\n\u001b[1;32m      5\u001b[0m     \u001b[0mq1\u001b[0m \u001b[0;34m=\u001b[0m \u001b[0;34m{\u001b[0m\u001b[0;34m\"location\"\u001b[0m\u001b[0;34m:\u001b[0m \u001b[0;34m{\u001b[0m\u001b[0;34m\"$near\"\u001b[0m\u001b[0;34m:\u001b[0m \u001b[0;34m{\u001b[0m\u001b[0;34m\"$geometry\"\u001b[0m\u001b[0;34m:\u001b[0m \u001b[0mdict\u001b[0m\u001b[0;34m(\u001b[0m\u001b[0moffice_loc\u001b[0m\u001b[0;34m)\u001b[0m\u001b[0;34m,\u001b[0m \u001b[0;34m\"$maxDistance\"\u001b[0m\u001b[0;34m:\u001b[0m \u001b[0;36m2000\u001b[0m\u001b[0;34m}\u001b[0m\u001b[0;34m}\u001b[0m\u001b[0;34m}\u001b[0m\u001b[0;34m\u001b[0m\u001b[0;34m\u001b[0m\u001b[0m\n",
      "\u001b[0;31mValueError\u001b[0m: dictionary update sequence element #0 has length 1; 2 is required"
     ]
    }
   ],
   "source": [
    "for office_loc in berlin_offices:\n",
    "    office_loc = dict(office_loc)\n",
    "    print(office_loc)\n",
    "    print(type(office_loc))\n",
    "    q1 = {\"location\": {\"$near\": {\"$geometry\": dict(office_loc), \"$maxDistance\": 2000}}}\n",
    "    berlin_ = list(berlin.find(q1))\n",
    "    print(berlin_)"
   ]
  },
  {
   "cell_type": "code",
   "execution_count": null,
   "id": "590d1c11",
   "metadata": {},
   "outputs": [],
   "source": [
    "berlin_ = list(berlin.find(q1))"
   ]
  },
  {
   "cell_type": "code",
   "execution_count": null,
   "id": "8452a13e",
   "metadata": {},
   "outputs": [],
   "source": []
  },
  {
   "cell_type": "code",
   "execution_count": null,
   "id": "f5480ed2",
   "metadata": {},
   "outputs": [],
   "source": []
  },
  {
   "cell_type": "code",
   "execution_count": null,
   "id": "1b0494a2",
   "metadata": {},
   "outputs": [],
   "source": []
  },
  {
   "cell_type": "code",
   "execution_count": null,
   "id": "ae734827",
   "metadata": {},
   "outputs": [],
   "source": []
  }
 ],
 "metadata": {
  "kernelspec": {
   "display_name": "ironhack",
   "language": "python",
   "name": "ironhack"
  },
  "language_info": {
   "codemirror_mode": {
    "name": "ipython",
    "version": 3
   },
   "file_extension": ".py",
   "mimetype": "text/x-python",
   "name": "python",
   "nbconvert_exporter": "python",
   "pygments_lexer": "ipython3",
   "version": "3.8.5"
  },
  "toc": {
   "base_numbering": 1,
   "nav_menu": {},
   "number_sections": false,
   "sideBar": true,
   "skip_h1_title": false,
   "title_cell": "Table of Contents",
   "title_sidebar": "Contents",
   "toc_cell": false,
   "toc_position": {},
   "toc_section_display": true,
   "toc_window_display": true
  },
  "varInspector": {
   "cols": {
    "lenName": 16,
    "lenType": 16,
    "lenVar": 40
   },
   "kernels_config": {
    "python": {
     "delete_cmd_postfix": "",
     "delete_cmd_prefix": "del ",
     "library": "var_list.py",
     "varRefreshCmd": "print(var_dic_list())"
    },
    "r": {
     "delete_cmd_postfix": ") ",
     "delete_cmd_prefix": "rm(",
     "library": "var_list.r",
     "varRefreshCmd": "cat(var_dic_list()) "
    }
   },
   "types_to_exclude": [
    "module",
    "function",
    "builtin_function_or_method",
    "instance",
    "_Feature"
   ],
   "window_display": false
  }
 },
 "nbformat": 4,
 "nbformat_minor": 5
}
