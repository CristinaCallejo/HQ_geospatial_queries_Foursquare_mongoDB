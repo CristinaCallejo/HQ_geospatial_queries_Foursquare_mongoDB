{
 "cells": [
  {
   "cell_type": "code",
   "execution_count": 65,
   "id": "f0f64ff4",
   "metadata": {},
   "outputs": [
    {
     "name": "stderr",
     "output_type": "stream",
     "text": [
      "/usr/local/Caskroom/miniconda/base/envs/ironhack/lib/python3.8/site-packages/geopandas/_compat.py:84: UserWarning: The Shapely GEOS version (3.9.1dev-CAPI-1.14.1) is incompatible with the GEOS version PyGEOS was compiled with (3.9.1-CAPI-1.14.2). Conversions between both will be slow.\n",
      "  warnings.warn(\n"
     ]
    }
   ],
   "source": [
    "import pymongo\n",
    "from pymongo import MongoClient, GEOSPHERE\n",
    "import sys\n",
    "sys.path.append('../src')\n",
    "import os\n",
    "import code4_data_ as f4\n",
    "import pandas as pd\n",
    "import numpy as np\n",
    "import geopandas as gpd\n",
    "import pymongo\n",
    "from pymongo import MongoClient, GEOSPHERE"
   ]
  },
  {
   "cell_type": "markdown",
   "id": "a3163fd7",
   "metadata": {},
   "source": [
    "## Establishing connection to mongoDB collection that match criteria with the offices selected"
   ]
  },
  {
   "cell_type": "code",
   "execution_count": 6,
   "id": "fab38073",
   "metadata": {},
   "outputs": [],
   "source": [
    "client = MongoClient()"
   ]
  },
  {
   "cell_type": "code",
   "execution_count": 19,
   "id": "d37a3600",
   "metadata": {},
   "outputs": [],
   "source": [
    "berlin = client.ironhack.hqreq_berlin\n",
    "paris = client.ironhack.hqreq_paris\n",
    "amsterdam = client.ironhack.hqreq_amsterdam\n",
    "companies2 = client.ironhack.companies2\n",
    "companies1 = client.ironhack.companies1"
   ]
  },
  {
   "cell_type": "markdown",
   "id": "35d2d3fa",
   "metadata": {},
   "source": [
    "## Connecting to collections with locations that matches criteria"
   ]
  },
  {
   "cell_type": "markdown",
   "id": "dba70e5b",
   "metadata": {},
   "source": [
    "## Establishing connection to mongoDB"
   ]
  },
  {
   "cell_type": "code",
   "execution_count": 8,
   "id": "8c8a6a57",
   "metadata": {},
   "outputs": [],
   "source": [
    "df = f4.import_csv(\"../data_processed/gdf5_v1.csv\")"
   ]
  },
  {
   "cell_type": "code",
   "execution_count": 10,
   "id": "e71d7820",
   "metadata": {},
   "outputs": [],
   "source": [
    "import ast"
   ]
  },
  {
   "cell_type": "code",
   "execution_count": 11,
   "id": "72511047",
   "metadata": {},
   "outputs": [],
   "source": [
    "df['geometry'] = df['geometry'].apply(lambda x: ast.literal_eval(x))"
   ]
  },
  {
   "cell_type": "code",
   "execution_count": 14,
   "id": "4dfae8f1",
   "metadata": {
    "scrolled": false
   },
   "outputs": [
    {
     "data": {
      "text/plain": [
       "0     {'type': 'Point', 'coordinates': [13.4124563, ...\n",
       "1     {'type': 'Point', 'coordinates': [13.4469031, ...\n",
       "2     {'type': 'Point', 'coordinates': [13.38861, 52...\n",
       "3     {'type': 'Point', 'coordinates': [2.3283853, 4...\n",
       "4     {'type': 'Point', 'coordinates': [2.3797825, 4...\n",
       "5     {'type': 'Point', 'coordinates': [2.288319, 48...\n",
       "6     {'type': 'Point', 'coordinates': [2.3210737, 4...\n",
       "7     {'type': 'Point', 'coordinates': [2.3698033, 4...\n",
       "8     {'type': 'Point', 'coordinates': [2.2983373, 4...\n",
       "9     {'type': 'Point', 'coordinates': [2.3304161, 4...\n",
       "10    {'type': 'Point', 'coordinates': [2.324782, 48...\n",
       "11    {'type': 'Point', 'coordinates': [4.8516964, 5...\n",
       "12    {'type': 'Point', 'coordinates': [4.870312, 52...\n",
       "13    {'type': 'Point', 'coordinates': [4.8909347, 5...\n",
       "Name: geometry, dtype: object"
      ]
     },
     "execution_count": 14,
     "metadata": {},
     "output_type": "execute_result"
    }
   ],
   "source": [
    "for each in df.geometry:\n",
    "    each['coordinates'] = list(each['coordinates'])\n",
    "df['geometry']"
   ]
  },
  {
   "cell_type": "code",
   "execution_count": 43,
   "id": "44833ca1",
   "metadata": {},
   "outputs": [],
   "source": [
    "dfdic = df.to_dict('records')"
   ]
  },
  {
   "cell_type": "code",
   "execution_count": 44,
   "id": "94c62b84",
   "metadata": {},
   "outputs": [
    {
     "data": {
      "text/plain": [
       "<pymongo.results.InsertManyResult at 0x7ff5079be380>"
      ]
     },
     "execution_count": 44,
     "metadata": {},
     "output_type": "execute_result"
    }
   ],
   "source": [
    "companies1.insert_many(dfdic) "
   ]
  },
  {
   "cell_type": "code",
   "execution_count": 53,
   "id": "95f5b3bf",
   "metadata": {},
   "outputs": [
    {
     "data": {
      "text/plain": [
       "'geometry_2dsphere'"
      ]
     },
     "execution_count": 53,
     "metadata": {},
     "output_type": "execute_result"
    }
   ],
   "source": [
    "companies1.create_index([(\"geometry\",GEOSPHERE)])"
   ]
  },
  {
   "cell_type": "markdown",
   "id": "f0333ba7",
   "metadata": {},
   "source": [
    "### What combination offices-venues is more succesfull?"
   ]
  },
  {
   "cell_type": "markdown",
   "id": "07ad0263",
   "metadata": {},
   "source": [
    "#### Comparing selected offices form each city with venues matching criteria"
   ]
  },
  {
   "cell_type": "code",
   "execution_count": 68,
   "id": "40c51956",
   "metadata": {},
   "outputs": [],
   "source": [
    "comp = pd.DataFrame(companies1.find({}))"
   ]
  },
  {
   "cell_type": "code",
   "execution_count": 80,
   "id": "9f9194e6",
   "metadata": {},
   "outputs": [],
   "source": [
    "berlin_offices = comp.iloc[:3,7]"
   ]
  },
  {
   "cell_type": "code",
   "execution_count": 81,
   "id": "a280eef3",
   "metadata": {},
   "outputs": [],
   "source": [
    "paris_offices = comp.iloc[3:11,7]"
   ]
  },
  {
   "cell_type": "code",
   "execution_count": 82,
   "id": "f967d741",
   "metadata": {},
   "outputs": [],
   "source": [
    "amsterdam_offices = comp.iloc[11:,7]"
   ]
  },
  {
   "cell_type": "code",
   "execution_count": 96,
   "id": "f92b967a",
   "metadata": {},
   "outputs": [],
   "source": [
    "for office in berlin_offices:\n",
    "    q1 = {\"geometry\":{ \"$nearSphere\":{\"$geometry\": office, \"$maxDistance\": 2000}}}\n",
    "    berlin_general = list(berlin.find(q1))"
   ]
  },
  {
   "cell_type": "code",
   "execution_count": 97,
   "id": "245b3f5c",
   "metadata": {},
   "outputs": [],
   "source": [
    "for office in paris_offices:\n",
    "    q1 = {\"geometry\":{ \"$nearSphere\":{\"$geometry\": office, \"$maxDistance\": 2000}}}\n",
    "    paris_general = list(paris.find(q1))"
   ]
  },
  {
   "cell_type": "code",
   "execution_count": 98,
   "id": "116e7215",
   "metadata": {},
   "outputs": [],
   "source": [
    "for office in amsterdam_offices:\n",
    "    q1 = {\"geometry\":{ \"$nearSphere\":{\"$geometry\": office, \"$maxDistance\": 2000}}}\n",
    "    amsterdam_general = list(amsterdam.find(q1))"
   ]
  },
  {
   "cell_type": "code",
   "execution_count": 99,
   "id": "150dc9bf",
   "metadata": {},
   "outputs": [
    {
     "data": {
      "text/plain": [
       "[{'_id': ObjectId('607e7ffeef33aa3ca4c3dbd1'),\n",
       "  'requirement': 'Vegetarian / Vegan Restaurant',\n",
       "  'name': 'Veggie Vega Trend',\n",
       "  'lat': 52.48882852660237,\n",
       "  'long': 13.395257592201233,\n",
       "  'geometry': {'type': 'Point',\n",
       "   'coordinates': [13.395257592201233, 52.48882852660237]}},\n",
       " {'_id': ObjectId('607e7ffeef33aa3ca4c3dbc6'),\n",
       "  'requirement': 'Daycare',\n",
       "  'name': 'Kita 1',\n",
       "  'lat': 52.48587633513613,\n",
       "  'long': 13.391434983073358,\n",
       "  'geometry': {'type': 'Point',\n",
       "   'coordinates': [13.391434983073358, 52.48587633513613]}},\n",
       " {'_id': ObjectId('607e7ffeef33aa3ca4c3dbcd'),\n",
       "  'requirement': 'Jazz Club',\n",
       "  'name': 'Yorckschlösschen',\n",
       "  'lat': 52.493614967122426,\n",
       "  'long': 13.38253056057901,\n",
       "  'geometry': {'type': 'Point',\n",
       "   'coordinates': [13.38253056057901, 52.493614967122426]}},\n",
       " {'_id': ObjectId('607e7ffeef33aa3ca4c3dbc9'),\n",
       "  'requirement': 'Cocktail Bar',\n",
       "  'name': 'Satellite Cocktail',\n",
       "  'lat': 52.493619,\n",
       "  'long': 13.394989,\n",
       "  'geometry': {'type': 'Point', 'coordinates': [13.394989, 52.493619]}},\n",
       " {'_id': ObjectId('607e7ffeef33aa3ca4c3dbcb'),\n",
       "  'requirement': 'Nightclub',\n",
       "  'name': 'Gretchen',\n",
       "  'lat': 52.49608852832538,\n",
       "  'long': 13.387626435292821,\n",
       "  'geometry': {'type': 'Point',\n",
       "   'coordinates': [13.387626435292821, 52.49608852832538]}},\n",
       " {'_id': ObjectId('607e7ffeef33aa3ca4c3dbc8'),\n",
       "  'requirement': 'Airport Lounge',\n",
       "  'name': 'Melli Beese Lounge',\n",
       "  'lat': 52.480565,\n",
       "  'long': 13.388803,\n",
       "  'geometry': {'type': 'Point', 'coordinates': [13.388803, 52.480565]}},\n",
       " {'_id': ObjectId('607e7ffeef33aa3ca4c3dbcf'),\n",
       "  'requirement': 'Vegetarian / Vegan Restaurant',\n",
       "  'name': 'Witz Hummus',\n",
       "  'lat': 52.491096,\n",
       "  'long': 13.404503,\n",
       "  'geometry': {'type': 'Point', 'coordinates': [13.404503, 52.491096]}},\n",
       " {'_id': ObjectId('607e7ffeef33aa3ca4c3dbc2'),\n",
       "  'requirement': 'Elementary School',\n",
       "  'name': 'Lemgo Grundschule',\n",
       "  'lat': 52.49409087540359,\n",
       "  'long': 13.413213715153834,\n",
       "  'geometry': {'type': 'Point',\n",
       "   'coordinates': [13.413213715153834, 52.49409087540359]}}]"
      ]
     },
     "execution_count": 99,
     "metadata": {},
     "output_type": "execute_result"
    }
   ],
   "source": [
    "berlin_general"
   ]
  },
  {
   "cell_type": "code",
   "execution_count": 114,
   "id": "00806aed",
   "metadata": {},
   "outputs": [],
   "source": [
    "dfparis = pd.DataFrame(paris_general)\n",
    "dfparis.to_csv('../data_processed/df_paris_matches.csv',index = False)"
   ]
  },
  {
   "cell_type": "code",
   "execution_count": 115,
   "id": "c26db818",
   "metadata": {},
   "outputs": [],
   "source": [
    "dfams = pd.DataFrame(amsterdam_general)\n",
    "dfams.to_csv('../data_processed/df_amsterdam_matches.csv',index = False)"
   ]
  },
  {
   "cell_type": "code",
   "execution_count": 116,
   "id": "8452a13e",
   "metadata": {},
   "outputs": [],
   "source": [
    "dfberl = pd.DataFrame(berlin_general)\n",
    "dfberl.to_csv('../data_processed/df_berlin_matches.csv',index = False)"
   ]
  },
  {
   "cell_type": "code",
   "execution_count": 117,
   "id": "f5480ed2",
   "metadata": {},
   "outputs": [],
   "source": [
    "dfall = pd.concat([dfparis,dfams,dfberl],ignore_index = True)\n",
    "dfall.to_csv('../data_processed/df_3citiesjoin_matches.csv',index = False)"
   ]
  },
  {
   "cell_type": "code",
   "execution_count": null,
   "id": "ae734827",
   "metadata": {},
   "outputs": [],
   "source": []
  }
 ],
 "metadata": {
  "kernelspec": {
   "display_name": "ironhack",
   "language": "python",
   "name": "ironhack"
  },
  "language_info": {
   "codemirror_mode": {
    "name": "ipython",
    "version": 3
   },
   "file_extension": ".py",
   "mimetype": "text/x-python",
   "name": "python",
   "nbconvert_exporter": "python",
   "pygments_lexer": "ipython3",
   "version": "3.8.5"
  },
  "toc": {
   "base_numbering": 1,
   "nav_menu": {},
   "number_sections": false,
   "sideBar": true,
   "skip_h1_title": false,
   "title_cell": "Table of Contents",
   "title_sidebar": "Contents",
   "toc_cell": false,
   "toc_position": {},
   "toc_section_display": true,
   "toc_window_display": true
  },
  "varInspector": {
   "cols": {
    "lenName": 16,
    "lenType": 16,
    "lenVar": 40
   },
   "kernels_config": {
    "python": {
     "delete_cmd_postfix": "",
     "delete_cmd_prefix": "del ",
     "library": "var_list.py",
     "varRefreshCmd": "print(var_dic_list())"
    },
    "r": {
     "delete_cmd_postfix": ") ",
     "delete_cmd_prefix": "rm(",
     "library": "var_list.r",
     "varRefreshCmd": "cat(var_dic_list()) "
    }
   },
   "types_to_exclude": [
    "module",
    "function",
    "builtin_function_or_method",
    "instance",
    "_Feature"
   ],
   "window_display": false
  }
 },
 "nbformat": 4,
 "nbformat_minor": 5
}
