{
 "cells": [
  {
   "cell_type": "code",
   "execution_count": 3,
   "metadata": {},
   "outputs": [
    {
     "name": "stderr",
     "output_type": "stream",
     "text": [
      "/usr/local/Caskroom/miniconda/base/envs/ironhack/lib/python3.8/site-packages/geopandas/_compat.py:84: UserWarning: The Shapely GEOS version (3.9.1dev-CAPI-1.14.1) is incompatible with the GEOS version PyGEOS was compiled with (3.9.1-CAPI-1.14.2). Conversions between both will be slow.\n",
      "  warnings.warn(\n"
     ]
    }
   ],
   "source": [
    "import warnings\n",
    "warnings.filterwarnings('ignore', message = \"Conversions\")\n",
    "import os\n",
    "import sys\n",
    "import re\n",
    "import pandas as pd\n",
    "import numpy as np\n",
    "import geopandas as gpd\n",
    "import pymongo\n",
    "import requests\n",
    "import json\n",
    "import shapely.geometry\n",
    "from pymongo import MongoClient, GEOSPHERE\n",
    "sys.path.append('../src')\n",
    "import code1_data_ as f1"
   ]
  },
  {
   "cell_type": "code",
   "execution_count": 4,
   "metadata": {},
   "outputs": [],
   "source": [
    "client = MongoClient()\n",
    "compis = client.ironhack.compi"
   ]
  },
  {
   "cell_type": "markdown",
   "metadata": {},
   "source": [
    "## Requirements for location (part I)"
   ]
  },
  {
   "cell_type": "markdown",
   "metadata": {},
   "source": [
    "### Filtered documents from \"compi\" collection "
   ]
  },
  {
   "cell_type": "code",
   "execution_count": 5,
   "metadata": {},
   "outputs": [],
   "source": [
    "q = {\"deadpooled_year\":None,\n",
    "     \"total_money_raised\": {\"$ne\":\"$0\",\"$not\":{\"$regex\":\"k\"}},\n",
    "     \"offices.country_code\":{\"$in\":\n",
    "                             ['CZE','DEU','DNK',\n",
    "                              'ESP','FRA','GBR',\n",
    "                              'HUN','IRL','ITA',\n",
    "                              'NLD','SWE','CHN','USA'\n",
    "                             ],\n",
    "                             \"$ne\":None},\n",
    "     \"offices.latitude\":{\"$ne\":None},\n",
    "     \"offices.longitude\":{\"$ne\":None},\n",
    "     \"number_of_employees\":{\"$gte\":100}\n",
    "    }\n",
    "\n",
    "pj = {\"name\":1,\n",
    "      \"_id\":0,\n",
    "      \"category_code\":1,\n",
    "      \"offices.city\":1,\n",
    "      \"offices.country_code\":1,\n",
    "      \"offices.latitude\":1,\n",
    "      \"offices.longitude\":1\n",
    "     }\n",
    "\n",
    "res = compis.find(q,pj).sort(\"offices.country_code\",1)\n",
    "res1 = list(res)"
   ]
  },
  {
   "cell_type": "code",
   "execution_count": 6,
   "metadata": {},
   "outputs": [
    {
     "data": {
      "text/html": [
       "<div>\n",
       "<style scoped>\n",
       "    .dataframe tbody tr th:only-of-type {\n",
       "        vertical-align: middle;\n",
       "    }\n",
       "\n",
       "    .dataframe tbody tr th {\n",
       "        vertical-align: top;\n",
       "    }\n",
       "\n",
       "    .dataframe thead th {\n",
       "        text-align: right;\n",
       "    }\n",
       "</style>\n",
       "<table border=\"1\" class=\"dataframe\">\n",
       "  <thead>\n",
       "    <tr style=\"text-align: right;\">\n",
       "      <th></th>\n",
       "      <th>name</th>\n",
       "      <th>category_code</th>\n",
       "      <th>offices</th>\n",
       "    </tr>\n",
       "  </thead>\n",
       "  <tbody>\n",
       "    <tr>\n",
       "      <th>0</th>\n",
       "      <td>99designs</td>\n",
       "      <td>design</td>\n",
       "      <td>[{'city': 'San Francisco', 'country_code': 'US...</td>\n",
       "    </tr>\n",
       "    <tr>\n",
       "      <th>1</th>\n",
       "      <td>Netsize</td>\n",
       "      <td>mobile</td>\n",
       "      <td>[{'city': 'Meudon  (Paris)', 'country_code': '...</td>\n",
       "    </tr>\n",
       "    <tr>\n",
       "      <th>2</th>\n",
       "      <td>CPM Braxis</td>\n",
       "      <td>consulting</td>\n",
       "      <td>[{'city': 'SÃ£o Paulo', 'country_code': 'BRA',...</td>\n",
       "    </tr>\n",
       "  </tbody>\n",
       "</table>\n",
       "</div>"
      ],
      "text/plain": [
       "         name category_code                                            offices\n",
       "0   99designs        design  [{'city': 'San Francisco', 'country_code': 'US...\n",
       "1     Netsize        mobile  [{'city': 'Meudon  (Paris)', 'country_code': '...\n",
       "2  CPM Braxis    consulting  [{'city': 'SÃ£o Paulo', 'country_code': 'BRA',..."
      ]
     },
     "execution_count": 6,
     "metadata": {},
     "output_type": "execute_result"
    }
   ],
   "source": [
    "df1 = pd.DataFrame(res1)\n",
    "df1.head(3)"
   ]
  },
  {
   "cell_type": "code",
   "execution_count": 7,
   "metadata": {},
   "outputs": [
    {
     "data": {
      "text/html": [
       "<div>\n",
       "<style scoped>\n",
       "    .dataframe tbody tr th:only-of-type {\n",
       "        vertical-align: middle;\n",
       "    }\n",
       "\n",
       "    .dataframe tbody tr th {\n",
       "        vertical-align: top;\n",
       "    }\n",
       "\n",
       "    .dataframe thead th {\n",
       "        text-align: right;\n",
       "    }\n",
       "</style>\n",
       "<table border=\"1\" class=\"dataframe\">\n",
       "  <thead>\n",
       "    <tr style=\"text-align: right;\">\n",
       "      <th></th>\n",
       "      <th>name</th>\n",
       "      <th>category_code</th>\n",
       "      <th>offices</th>\n",
       "    </tr>\n",
       "  </thead>\n",
       "  <tbody>\n",
       "    <tr>\n",
       "      <th>0</th>\n",
       "      <td>99designs</td>\n",
       "      <td>design</td>\n",
       "      <td>{'city': 'San Francisco', 'country_code': 'USA...</td>\n",
       "    </tr>\n",
       "    <tr>\n",
       "      <th>1</th>\n",
       "      <td>99designs</td>\n",
       "      <td>design</td>\n",
       "      <td>{'city': 'Collingwood', 'country_code': 'AUS',...</td>\n",
       "    </tr>\n",
       "    <tr>\n",
       "      <th>2</th>\n",
       "      <td>99designs</td>\n",
       "      <td>design</td>\n",
       "      <td>{'city': 'Berlin', 'country_code': 'DEU', 'lat...</td>\n",
       "    </tr>\n",
       "  </tbody>\n",
       "</table>\n",
       "</div>"
      ],
      "text/plain": [
       "        name category_code                                            offices\n",
       "0  99designs        design  {'city': 'San Francisco', 'country_code': 'USA...\n",
       "1  99designs        design  {'city': 'Collingwood', 'country_code': 'AUS',...\n",
       "2  99designs        design  {'city': 'Berlin', 'country_code': 'DEU', 'lat..."
      ]
     },
     "execution_count": 7,
     "metadata": {},
     "output_type": "execute_result"
    }
   ],
   "source": [
    "df2 = df1.explode('offices')\n",
    "df2.reset_index(inplace = True, drop = True)\n",
    "df2.head(3)"
   ]
  },
  {
   "cell_type": "code",
   "execution_count": 8,
   "metadata": {},
   "outputs": [
    {
     "data": {
      "text/plain": [
       "{'city': 'San Francisco',\n",
       " 'country_code': 'USA',\n",
       " 'latitude': 37.7955307,\n",
       " 'longitude': -122.4005983}"
      ]
     },
     "execution_count": 8,
     "metadata": {},
     "output_type": "execute_result"
    }
   ],
   "source": [
    "df2.offices[0]"
   ]
  },
  {
   "cell_type": "code",
   "execution_count": 9,
   "metadata": {},
   "outputs": [],
   "source": [
    "df2_unnested = pd.json_normalize(df2.offices, max_level = 1)"
   ]
  },
  {
   "cell_type": "code",
   "execution_count": 10,
   "metadata": {},
   "outputs": [
    {
     "data": {
      "text/html": [
       "<div>\n",
       "<style scoped>\n",
       "    .dataframe tbody tr th:only-of-type {\n",
       "        vertical-align: middle;\n",
       "    }\n",
       "\n",
       "    .dataframe tbody tr th {\n",
       "        vertical-align: top;\n",
       "    }\n",
       "\n",
       "    .dataframe thead th {\n",
       "        text-align: right;\n",
       "    }\n",
       "</style>\n",
       "<table border=\"1\" class=\"dataframe\">\n",
       "  <thead>\n",
       "    <tr style=\"text-align: right;\">\n",
       "      <th></th>\n",
       "      <th>name</th>\n",
       "      <th>category_code</th>\n",
       "      <th>offices</th>\n",
       "      <th>city</th>\n",
       "      <th>country_code</th>\n",
       "      <th>latitude</th>\n",
       "      <th>longitude</th>\n",
       "    </tr>\n",
       "  </thead>\n",
       "  <tbody>\n",
       "    <tr>\n",
       "      <th>0</th>\n",
       "      <td>99designs</td>\n",
       "      <td>design</td>\n",
       "      <td>{'city': 'San Francisco', 'country_code': 'USA...</td>\n",
       "      <td>San Francisco</td>\n",
       "      <td>USA</td>\n",
       "      <td>37.795531</td>\n",
       "      <td>-122.400598</td>\n",
       "    </tr>\n",
       "    <tr>\n",
       "      <th>1</th>\n",
       "      <td>99designs</td>\n",
       "      <td>design</td>\n",
       "      <td>{'city': 'Collingwood', 'country_code': 'AUS',...</td>\n",
       "      <td>Collingwood</td>\n",
       "      <td>AUS</td>\n",
       "      <td>-37.802659</td>\n",
       "      <td>144.986855</td>\n",
       "    </tr>\n",
       "    <tr>\n",
       "      <th>2</th>\n",
       "      <td>99designs</td>\n",
       "      <td>design</td>\n",
       "      <td>{'city': 'Berlin', 'country_code': 'DEU', 'lat...</td>\n",
       "      <td>Berlin</td>\n",
       "      <td>DEU</td>\n",
       "      <td>52.498620</td>\n",
       "      <td>13.446903</td>\n",
       "    </tr>\n",
       "    <tr>\n",
       "      <th>3</th>\n",
       "      <td>Netsize</td>\n",
       "      <td>mobile</td>\n",
       "      <td>{'city': 'Meudon  (Paris)', 'country_code': 'F...</td>\n",
       "      <td>Meudon  (Paris)</td>\n",
       "      <td>FRA</td>\n",
       "      <td>48.894312</td>\n",
       "      <td>2.288319</td>\n",
       "    </tr>\n",
       "    <tr>\n",
       "      <th>4</th>\n",
       "      <td>Netsize</td>\n",
       "      <td>mobile</td>\n",
       "      <td>{'city': 'West Chatswood', 'country_code': 'AU...</td>\n",
       "      <td>West Chatswood</td>\n",
       "      <td>AUS</td>\n",
       "      <td>-33.867139</td>\n",
       "      <td>151.207114</td>\n",
       "    </tr>\n",
       "  </tbody>\n",
       "</table>\n",
       "</div>"
      ],
      "text/plain": [
       "        name category_code                                            offices  \\\n",
       "0  99designs        design  {'city': 'San Francisco', 'country_code': 'USA...   \n",
       "1  99designs        design  {'city': 'Collingwood', 'country_code': 'AUS',...   \n",
       "2  99designs        design  {'city': 'Berlin', 'country_code': 'DEU', 'lat...   \n",
       "3    Netsize        mobile  {'city': 'Meudon  (Paris)', 'country_code': 'F...   \n",
       "4    Netsize        mobile  {'city': 'West Chatswood', 'country_code': 'AU...   \n",
       "\n",
       "              city country_code   latitude   longitude  \n",
       "0    San Francisco          USA  37.795531 -122.400598  \n",
       "1      Collingwood          AUS -37.802659  144.986855  \n",
       "2           Berlin          DEU  52.498620   13.446903  \n",
       "3  Meudon  (Paris)          FRA  48.894312    2.288319  \n",
       "4   West Chatswood          AUS -33.867139  151.207114  "
      ]
     },
     "execution_count": 10,
     "metadata": {},
     "output_type": "execute_result"
    }
   ],
   "source": [
    "df3 = pd.concat([df2, df2_unnested], axis=1)\n",
    "df3.head()"
   ]
  },
  {
   "cell_type": "markdown",
   "metadata": {},
   "source": [
    "<div class=\"girk\">\n",
    "### converting to geopandas dataframe with shapely point objects</div><i class=\"fa fa-lightbulb-o \"></i>"
   ]
  },
  {
   "cell_type": "code",
   "execution_count": 2,
   "metadata": {
    "scrolled": true
   },
   "outputs": [
    {
     "ename": "NameError",
     "evalue": "name 'gpd' is not defined",
     "output_type": "error",
     "traceback": [
      "\u001b[0;31m---------------------------------------------------------------------------\u001b[0m",
      "\u001b[0;31mNameError\u001b[0m                                 Traceback (most recent call last)",
      "\u001b[0;32m<ipython-input-2-a4db862df9b7>\u001b[0m in \u001b[0;36m<module>\u001b[0;34m\u001b[0m\n\u001b[0;32m----> 1\u001b[0;31m \u001b[0mgdf\u001b[0m \u001b[0;34m=\u001b[0m \u001b[0mgpd\u001b[0m\u001b[0;34m.\u001b[0m\u001b[0mGeoDataFrame\u001b[0m\u001b[0;34m(\u001b[0m\u001b[0mdf3\u001b[0m\u001b[0;34m,\u001b[0m \u001b[0mgeometry\u001b[0m \u001b[0;34m=\u001b[0m \u001b[0mgpd\u001b[0m\u001b[0;34m.\u001b[0m\u001b[0mpoints_from_xy\u001b[0m\u001b[0;34m(\u001b[0m\u001b[0mdf3\u001b[0m\u001b[0;34m.\u001b[0m\u001b[0mlongitude\u001b[0m\u001b[0;34m,\u001b[0m \u001b[0mdf3\u001b[0m\u001b[0;34m.\u001b[0m\u001b[0mlatitude\u001b[0m\u001b[0;34m)\u001b[0m\u001b[0;34m)\u001b[0m\u001b[0;34m\u001b[0m\u001b[0;34m\u001b[0m\u001b[0m\n\u001b[0m",
      "\u001b[0;31mNameError\u001b[0m: name 'gpd' is not defined"
     ]
    }
   ],
   "source": [
    "gdf = gpd.GeoDataFrame(df3, geometry = gpd.points_from_xy(df3.longitude, df3.latitude))"
   ]
  },
  {
   "cell_type": "markdown",
   "metadata": {},
   "source": [
    "<div class=\"girk\">\n",
    "### converting shapely point objects to GeoJSON point objects</div><i class=\"fa fa-lightbulb-o \"></i>"
   ]
  },
  {
   "cell_type": "code",
   "execution_count": 13,
   "metadata": {},
   "outputs": [
    {
     "ename": "AttributeError",
     "evalue": "'list' object has no attribute '__geo_interface__'",
     "output_type": "error",
     "traceback": [
      "\u001b[0;31m---------------------------------------------------------------------------\u001b[0m",
      "\u001b[0;31mAttributeError\u001b[0m                            Traceback (most recent call last)",
      "\u001b[0;32m<ipython-input-13-8b628b0de306>\u001b[0m in \u001b[0;36m<module>\u001b[0;34m\u001b[0m\n\u001b[0;32m----> 1\u001b[0;31m \u001b[0mgdf\u001b[0m\u001b[0;34m[\u001b[0m\u001b[0;34m'geometry'\u001b[0m\u001b[0;34m]\u001b[0m\u001b[0;34m=\u001b[0m\u001b[0mgdf\u001b[0m\u001b[0;34m[\u001b[0m\u001b[0;34m'geometry'\u001b[0m\u001b[0;34m]\u001b[0m\u001b[0;34m.\u001b[0m\u001b[0mapply\u001b[0m\u001b[0;34m(\u001b[0m\u001b[0;32mlambda\u001b[0m \u001b[0mx\u001b[0m\u001b[0;34m:\u001b[0m \u001b[0mshapely\u001b[0m\u001b[0;34m.\u001b[0m\u001b[0mgeometry\u001b[0m\u001b[0;34m.\u001b[0m\u001b[0mmapping\u001b[0m\u001b[0;34m(\u001b[0m\u001b[0;34m[\u001b[0m\u001b[0mx\u001b[0m\u001b[0;34m]\u001b[0m\u001b[0;34m)\u001b[0m\u001b[0;34m)\u001b[0m\u001b[0;34m\u001b[0m\u001b[0;34m\u001b[0m\u001b[0m\n\u001b[0m",
      "\u001b[0;32m/usr/local/Caskroom/miniconda/base/envs/ironhack/lib/python3.8/site-packages/pandas/core/series.py\u001b[0m in \u001b[0;36mapply\u001b[0;34m(self, func, convert_dtype, args, **kwds)\u001b[0m\n\u001b[1;32m   4136\u001b[0m             \u001b[0;32melse\u001b[0m\u001b[0;34m:\u001b[0m\u001b[0;34m\u001b[0m\u001b[0;34m\u001b[0m\u001b[0m\n\u001b[1;32m   4137\u001b[0m                 \u001b[0mvalues\u001b[0m \u001b[0;34m=\u001b[0m \u001b[0mself\u001b[0m\u001b[0;34m.\u001b[0m\u001b[0mastype\u001b[0m\u001b[0;34m(\u001b[0m\u001b[0mobject\u001b[0m\u001b[0;34m)\u001b[0m\u001b[0;34m.\u001b[0m\u001b[0m_values\u001b[0m\u001b[0;34m\u001b[0m\u001b[0;34m\u001b[0m\u001b[0m\n\u001b[0;32m-> 4138\u001b[0;31m                 \u001b[0mmapped\u001b[0m \u001b[0;34m=\u001b[0m \u001b[0mlib\u001b[0m\u001b[0;34m.\u001b[0m\u001b[0mmap_infer\u001b[0m\u001b[0;34m(\u001b[0m\u001b[0mvalues\u001b[0m\u001b[0;34m,\u001b[0m \u001b[0mf\u001b[0m\u001b[0;34m,\u001b[0m \u001b[0mconvert\u001b[0m\u001b[0;34m=\u001b[0m\u001b[0mconvert_dtype\u001b[0m\u001b[0;34m)\u001b[0m\u001b[0;34m\u001b[0m\u001b[0;34m\u001b[0m\u001b[0m\n\u001b[0m\u001b[1;32m   4139\u001b[0m \u001b[0;34m\u001b[0m\u001b[0m\n\u001b[1;32m   4140\u001b[0m         \u001b[0;32mif\u001b[0m \u001b[0mlen\u001b[0m\u001b[0;34m(\u001b[0m\u001b[0mmapped\u001b[0m\u001b[0;34m)\u001b[0m \u001b[0;32mand\u001b[0m \u001b[0misinstance\u001b[0m\u001b[0;34m(\u001b[0m\u001b[0mmapped\u001b[0m\u001b[0;34m[\u001b[0m\u001b[0;36m0\u001b[0m\u001b[0;34m]\u001b[0m\u001b[0;34m,\u001b[0m \u001b[0mSeries\u001b[0m\u001b[0;34m)\u001b[0m\u001b[0;34m:\u001b[0m\u001b[0;34m\u001b[0m\u001b[0;34m\u001b[0m\u001b[0m\n",
      "\u001b[0;32mpandas/_libs/lib.pyx\u001b[0m in \u001b[0;36mpandas._libs.lib.map_infer\u001b[0;34m()\u001b[0m\n",
      "\u001b[0;32m<ipython-input-13-8b628b0de306>\u001b[0m in \u001b[0;36m<lambda>\u001b[0;34m(x)\u001b[0m\n\u001b[0;32m----> 1\u001b[0;31m \u001b[0mgdf\u001b[0m\u001b[0;34m[\u001b[0m\u001b[0;34m'geometry'\u001b[0m\u001b[0;34m]\u001b[0m\u001b[0;34m=\u001b[0m\u001b[0mgdf\u001b[0m\u001b[0;34m[\u001b[0m\u001b[0;34m'geometry'\u001b[0m\u001b[0;34m]\u001b[0m\u001b[0;34m.\u001b[0m\u001b[0mapply\u001b[0m\u001b[0;34m(\u001b[0m\u001b[0;32mlambda\u001b[0m \u001b[0mx\u001b[0m\u001b[0;34m:\u001b[0m \u001b[0mshapely\u001b[0m\u001b[0;34m.\u001b[0m\u001b[0mgeometry\u001b[0m\u001b[0;34m.\u001b[0m\u001b[0mmapping\u001b[0m\u001b[0;34m(\u001b[0m\u001b[0;34m[\u001b[0m\u001b[0mx\u001b[0m\u001b[0;34m]\u001b[0m\u001b[0;34m)\u001b[0m\u001b[0;34m)\u001b[0m\u001b[0;34m\u001b[0m\u001b[0;34m\u001b[0m\u001b[0m\n\u001b[0m",
      "\u001b[0;32m/usr/local/Caskroom/miniconda/base/envs/ironhack/lib/python3.8/site-packages/shapely/geometry/geo.py\u001b[0m in \u001b[0;36mmapping\u001b[0;34m(ob)\u001b[0m\n\u001b[1;32m    203\u001b[0m     \u001b[0;34m{\u001b[0m\u001b[0;34m'type'\u001b[0m\u001b[0;34m:\u001b[0m \u001b[0;34m'Point'\u001b[0m\u001b[0;34m,\u001b[0m \u001b[0;34m'coordinates'\u001b[0m\u001b[0;34m:\u001b[0m \u001b[0;34m(\u001b[0m\u001b[0;36m0.0\u001b[0m\u001b[0;34m,\u001b[0m \u001b[0;36m0.0\u001b[0m\u001b[0;34m)\u001b[0m\u001b[0;34m}\u001b[0m\u001b[0;34m\u001b[0m\u001b[0;34m\u001b[0m\u001b[0m\n\u001b[1;32m    204\u001b[0m     \"\"\"\n\u001b[0;32m--> 205\u001b[0;31m     \u001b[0;32mreturn\u001b[0m \u001b[0mob\u001b[0m\u001b[0;34m.\u001b[0m\u001b[0m__geo_interface__\u001b[0m\u001b[0;34m\u001b[0m\u001b[0;34m\u001b[0m\u001b[0m\n\u001b[0m",
      "\u001b[0;31mAttributeError\u001b[0m: 'list' object has no attribute '__geo_interface__'"
     ]
    }
   ],
   "source": [
    "gdf['geometry']=gdf['geometry'].apply(lambda x: shapely.geometry.mapping([x]))"
   ]
  },
  {
   "cell_type": "code",
   "execution_count": 11,
   "metadata": {},
   "outputs": [
    {
     "data": {
      "text/html": [
       "<div>\n",
       "<style scoped>\n",
       "    .dataframe tbody tr th:only-of-type {\n",
       "        vertical-align: middle;\n",
       "    }\n",
       "\n",
       "    .dataframe tbody tr th {\n",
       "        vertical-align: top;\n",
       "    }\n",
       "\n",
       "    .dataframe thead th {\n",
       "        text-align: right;\n",
       "    }\n",
       "</style>\n",
       "<table border=\"1\" class=\"dataframe\">\n",
       "  <thead>\n",
       "    <tr style=\"text-align: right;\">\n",
       "      <th></th>\n",
       "      <th>name</th>\n",
       "      <th>category_code</th>\n",
       "      <th>offices</th>\n",
       "      <th>city</th>\n",
       "      <th>country_code</th>\n",
       "      <th>latitude</th>\n",
       "      <th>longitude</th>\n",
       "      <th>geometry</th>\n",
       "    </tr>\n",
       "  </thead>\n",
       "  <tbody>\n",
       "    <tr>\n",
       "      <th>0</th>\n",
       "      <td>99designs</td>\n",
       "      <td>design</td>\n",
       "      <td>{'city': 'San Francisco', 'country_code': 'USA...</td>\n",
       "      <td>San Francisco</td>\n",
       "      <td>USA</td>\n",
       "      <td>37.795531</td>\n",
       "      <td>-122.400598</td>\n",
       "      <td>{'type': 'Point', 'coordinates': (-122.4005983...</td>\n",
       "    </tr>\n",
       "    <tr>\n",
       "      <th>1</th>\n",
       "      <td>99designs</td>\n",
       "      <td>design</td>\n",
       "      <td>{'city': 'Collingwood', 'country_code': 'AUS',...</td>\n",
       "      <td>Collingwood</td>\n",
       "      <td>AUS</td>\n",
       "      <td>-37.802659</td>\n",
       "      <td>144.986855</td>\n",
       "      <td>{'type': 'Point', 'coordinates': (144.9868546,...</td>\n",
       "    </tr>\n",
       "    <tr>\n",
       "      <th>2</th>\n",
       "      <td>99designs</td>\n",
       "      <td>design</td>\n",
       "      <td>{'city': 'Berlin', 'country_code': 'DEU', 'lat...</td>\n",
       "      <td>Berlin</td>\n",
       "      <td>DEU</td>\n",
       "      <td>52.498620</td>\n",
       "      <td>13.446903</td>\n",
       "      <td>{'type': 'Point', 'coordinates': (13.4469031, ...</td>\n",
       "    </tr>\n",
       "  </tbody>\n",
       "</table>\n",
       "</div>"
      ],
      "text/plain": [
       "        name category_code                                            offices  \\\n",
       "0  99designs        design  {'city': 'San Francisco', 'country_code': 'USA...   \n",
       "1  99designs        design  {'city': 'Collingwood', 'country_code': 'AUS',...   \n",
       "2  99designs        design  {'city': 'Berlin', 'country_code': 'DEU', 'lat...   \n",
       "\n",
       "            city country_code   latitude   longitude  \\\n",
       "0  San Francisco          USA  37.795531 -122.400598   \n",
       "1    Collingwood          AUS -37.802659  144.986855   \n",
       "2         Berlin          DEU  52.498620   13.446903   \n",
       "\n",
       "                                            geometry  \n",
       "0  {'type': 'Point', 'coordinates': (-122.4005983...  \n",
       "1  {'type': 'Point', 'coordinates': (144.9868546,...  \n",
       "2  {'type': 'Point', 'coordinates': (13.4469031, ...  "
      ]
     },
     "execution_count": 11,
     "metadata": {},
     "output_type": "execute_result"
    }
   ],
   "source": [
    "gdf.head(3)"
   ]
  },
  {
   "cell_type": "code",
   "execution_count": null,
   "metadata": {},
   "outputs": [],
   "source": []
  },
  {
   "cell_type": "markdown",
   "metadata": {},
   "source": [
    "### removing unnecessary column with duplicated info and sorting data by country_code"
   ]
  },
  {
   "cell_type": "code",
   "execution_count": 11,
   "metadata": {},
   "outputs": [],
   "source": [
    "df3.drop(columns=\"offices\", inplace=True)"
   ]
  },
  {
   "cell_type": "code",
   "execution_count": 12,
   "metadata": {},
   "outputs": [],
   "source": [
    "df3.sort_values(by = ['country_code'], inplace = True, ignore_index = True)"
   ]
  },
  {
   "cell_type": "markdown",
   "metadata": {},
   "source": [
    "<div class=\"girk\">\n",
    "### Creating new collectio<span class=\"mark\">n \"companies</span>1\" in ironhack database and 2dsphere index</div><i class=\"fa fa-lightbulb-o \"></i>"
   ]
  },
  {
   "cell_type": "code",
   "execution_count": 16,
   "metadata": {
    "scrolled": true
   },
   "outputs": [
    {
     "data": {
      "text/plain": [
       "'geometry_2dsphere'"
      ]
     },
     "execution_count": 16,
     "metadata": {},
     "output_type": "execute_result"
    }
   ],
   "source": [
    "companies1 = client.ironhack.companies1\n",
    "companies1.create_index([(\"geometry\",GEOSPHERE)])"
   ]
  },
  {
   "cell_type": "markdown",
   "metadata": {},
   "source": [
    "<div class=\"mark\">\n",
    "### Converting geoDF into a list of dictionaries to insert filtered documents with added GeoJSON information to \"companies1\" collection.</div><i class=\"fa fa-lightbulb-o \"></i>"
   ]
  },
  {
   "cell_type": "code",
   "execution_count": 14,
   "metadata": {
    "scrolled": true
   },
   "outputs": [
    {
     "data": {
      "text/html": [
       "<div>\n",
       "<style scoped>\n",
       "    .dataframe tbody tr th:only-of-type {\n",
       "        vertical-align: middle;\n",
       "    }\n",
       "\n",
       "    .dataframe tbody tr th {\n",
       "        vertical-align: top;\n",
       "    }\n",
       "\n",
       "    .dataframe thead th {\n",
       "        text-align: right;\n",
       "    }\n",
       "</style>\n",
       "<table border=\"1\" class=\"dataframe\">\n",
       "  <thead>\n",
       "    <tr style=\"text-align: right;\">\n",
       "      <th></th>\n",
       "      <th>name</th>\n",
       "      <th>category_code</th>\n",
       "      <th>city</th>\n",
       "      <th>country_code</th>\n",
       "      <th>latitude</th>\n",
       "      <th>longitude</th>\n",
       "    </tr>\n",
       "  </thead>\n",
       "  <tbody>\n",
       "    <tr>\n",
       "      <th>0</th>\n",
       "      <td>99designs</td>\n",
       "      <td>design</td>\n",
       "      <td>Collingwood</td>\n",
       "      <td>AUS</td>\n",
       "      <td>-37.802659</td>\n",
       "      <td>144.986855</td>\n",
       "    </tr>\n",
       "    <tr>\n",
       "      <th>1</th>\n",
       "      <td>Netsize</td>\n",
       "      <td>mobile</td>\n",
       "      <td>West Chatswood</td>\n",
       "      <td>AUS</td>\n",
       "      <td>-33.867139</td>\n",
       "      <td>151.207114</td>\n",
       "    </tr>\n",
       "    <tr>\n",
       "      <th>2</th>\n",
       "      <td>CPM Braxis</td>\n",
       "      <td>consulting</td>\n",
       "      <td>SÃ£o Paulo</td>\n",
       "      <td>BRA</td>\n",
       "      <td>-23.591042</td>\n",
       "      <td>-46.687202</td>\n",
       "    </tr>\n",
       "    <tr>\n",
       "      <th>3</th>\n",
       "      <td>Adknowledge</td>\n",
       "      <td>advertising</td>\n",
       "      <td>Toronto</td>\n",
       "      <td>CAN</td>\n",
       "      <td>43.647455</td>\n",
       "      <td>-79.395374</td>\n",
       "    </tr>\n",
       "    <tr>\n",
       "      <th>4</th>\n",
       "      <td>Novariant</td>\n",
       "      <td>other</td>\n",
       "      <td>Santiago</td>\n",
       "      <td>CHL</td>\n",
       "      <td>-29.959641</td>\n",
       "      <td>-71.255956</td>\n",
       "    </tr>\n",
       "    <tr>\n",
       "      <th>...</th>\n",
       "      <td>...</td>\n",
       "      <td>...</td>\n",
       "      <td>...</td>\n",
       "      <td>...</td>\n",
       "      <td>...</td>\n",
       "      <td>...</td>\n",
       "    </tr>\n",
       "    <tr>\n",
       "      <th>310</th>\n",
       "      <td>Acquia</td>\n",
       "      <td>enterprise</td>\n",
       "      <td>Burlington</td>\n",
       "      <td>USA</td>\n",
       "      <td>42.524527</td>\n",
       "      <td>-71.137784</td>\n",
       "    </tr>\n",
       "    <tr>\n",
       "      <th>311</th>\n",
       "      <td>Etsy</td>\n",
       "      <td>ecommerce</td>\n",
       "      <td>Brooklyn</td>\n",
       "      <td>USA</td>\n",
       "      <td>40.694731</td>\n",
       "      <td>-73.983268</td>\n",
       "    </tr>\n",
       "    <tr>\n",
       "      <th>312</th>\n",
       "      <td>Tesla Motors</td>\n",
       "      <td>automotive</td>\n",
       "      <td>Palo Alto</td>\n",
       "      <td>USA</td>\n",
       "      <td>37.496737</td>\n",
       "      <td>-122.245323</td>\n",
       "    </tr>\n",
       "    <tr>\n",
       "      <th>313</th>\n",
       "      <td>fabrik</td>\n",
       "      <td>network_hosting</td>\n",
       "      <td>San Mateo</td>\n",
       "      <td>USA</td>\n",
       "      <td>37.553743</td>\n",
       "      <td>-122.300246</td>\n",
       "    </tr>\n",
       "    <tr>\n",
       "      <th>314</th>\n",
       "      <td>InfoLogix</td>\n",
       "      <td>enterprise</td>\n",
       "      <td>Hatboro</td>\n",
       "      <td>USA</td>\n",
       "      <td>40.192329</td>\n",
       "      <td>-75.106923</td>\n",
       "    </tr>\n",
       "  </tbody>\n",
       "</table>\n",
       "<p>315 rows × 6 columns</p>\n",
       "</div>"
      ],
      "text/plain": [
       "             name    category_code            city country_code   latitude  \\\n",
       "0       99designs           design     Collingwood          AUS -37.802659   \n",
       "1         Netsize           mobile  West Chatswood          AUS -33.867139   \n",
       "2      CPM Braxis       consulting      SÃ£o Paulo          BRA -23.591042   \n",
       "3     Adknowledge      advertising         Toronto          CAN  43.647455   \n",
       "4       Novariant            other        Santiago          CHL -29.959641   \n",
       "..            ...              ...             ...          ...        ...   \n",
       "310        Acquia       enterprise      Burlington          USA  42.524527   \n",
       "311          Etsy        ecommerce        Brooklyn          USA  40.694731   \n",
       "312  Tesla Motors       automotive       Palo Alto          USA  37.496737   \n",
       "313        fabrik  network_hosting       San Mateo          USA  37.553743   \n",
       "314     InfoLogix       enterprise         Hatboro          USA  40.192329   \n",
       "\n",
       "      longitude  \n",
       "0    144.986855  \n",
       "1    151.207114  \n",
       "2    -46.687202  \n",
       "3    -79.395374  \n",
       "4    -71.255956  \n",
       "..          ...  \n",
       "310  -71.137784  \n",
       "311  -73.983268  \n",
       "312 -122.245323  \n",
       "313 -122.300246  \n",
       "314  -75.106923  \n",
       "\n",
       "[315 rows x 6 columns]"
      ]
     },
     "execution_count": 14,
     "metadata": {},
     "output_type": "execute_result"
    }
   ],
   "source": [
    "df3"
   ]
  },
  {
   "cell_type": "code",
   "execution_count": null,
   "metadata": {},
   "outputs": [],
   "source": []
  },
  {
   "cell_type": "code",
   "execution_count": 17,
   "metadata": {
    "scrolled": false
   },
   "outputs": [
    {
     "name": "stdout",
     "output_type": "stream",
     "text": [
      "Attention: Export succesfull\n",
      "Attention: File exported correctly to '../data_processed/dfcompanies1_v1.csv'\n"
     ]
    }
   ],
   "source": [
    "f1.export_df_to_csv(df3)"
   ]
  },
  {
   "cell_type": "code",
   "execution_count": null,
   "metadata": {},
   "outputs": [],
   "source": []
  },
  {
   "cell_type": "markdown",
   "metadata": {},
   "source": [
    "<div class=\"girk\">\n",
    "No hecho</div><i class=\"fa fa-lightbulb-o \"></i>"
   ]
  },
  {
   "cell_type": "code",
   "execution_count": 42,
   "metadata": {},
   "outputs": [],
   "source": [
    "gdf_dic = gdf.to_dict('records')"
   ]
  },
  {
   "cell_type": "code",
   "execution_count": 43,
   "metadata": {
    "scrolled": false
   },
   "outputs": [
    {
     "data": {
      "text/plain": [
       "<pymongo.results.InsertManyResult at 0x7fcd982e6840>"
      ]
     },
     "execution_count": 43,
     "metadata": {},
     "output_type": "execute_result"
    }
   ],
   "source": [
    "companies1.insert_many(gdf_dic)"
   ]
  },
  {
   "cell_type": "code",
   "execution_count": null,
   "metadata": {},
   "outputs": [],
   "source": []
  },
  {
   "cell_type": "code",
   "execution_count": null,
   "metadata": {},
   "outputs": [],
   "source": []
  },
  {
   "cell_type": "code",
   "execution_count": null,
   "metadata": {},
   "outputs": [],
   "source": []
  },
  {
   "cell_type": "code",
   "execution_count": null,
   "metadata": {},
   "outputs": [],
   "source": []
  },
  {
   "cell_type": "code",
   "execution_count": null,
   "metadata": {},
   "outputs": [],
   "source": []
  },
  {
   "cell_type": "markdown",
   "metadata": {},
   "source": [
    "### Accessing relevant information on the lcoation of each office in the database to create a 2dsphere index."
   ]
  },
  {
   "cell_type": "code",
   "execution_count": null,
   "metadata": {},
   "outputs": [],
   "source": [
    "tok1 = os.getenv(\"tok1\")\n",
    "tok2 = os.getenv(\"tok2\")"
   ]
  },
  {
   "cell_type": "markdown",
   "metadata": {},
   "source": [
    "### Comparing number of companies that meet criteria in major non-European countries"
   ]
  },
  {
   "cell_type": "markdown",
   "metadata": {},
   "source": [
    "### Comparing number of companies that meet criteria in European countries"
   ]
  },
  {
   "cell_type": "code",
   "execution_count": null,
   "metadata": {},
   "outputs": [],
   "source": []
  },
  {
   "cell_type": "code",
   "execution_count": null,
   "metadata": {},
   "outputs": [],
   "source": []
  }
 ],
 "metadata": {
  "kernelspec": {
   "display_name": "ironhack",
   "language": "python",
   "name": "ironhack"
  },
  "language_info": {
   "codemirror_mode": {
    "name": "ipython",
    "version": 3
   },
   "file_extension": ".py",
   "mimetype": "text/x-python",
   "name": "python",
   "nbconvert_exporter": "python",
   "pygments_lexer": "ipython3",
   "version": "3.8.5"
  },
  "toc": {
   "base_numbering": 1,
   "nav_menu": {},
   "number_sections": false,
   "sideBar": true,
   "skip_h1_title": false,
   "title_cell": "Table of Contents",
   "title_sidebar": "Contents",
   "toc_cell": false,
   "toc_position": {},
   "toc_section_display": true,
   "toc_window_display": true
  },
  "varInspector": {
   "cols": {
    "lenName": 16,
    "lenType": 16,
    "lenVar": 40
   },
   "kernels_config": {
    "python": {
     "delete_cmd_postfix": "",
     "delete_cmd_prefix": "del ",
     "library": "var_list.py",
     "varRefreshCmd": "print(var_dic_list())"
    },
    "r": {
     "delete_cmd_postfix": ") ",
     "delete_cmd_prefix": "rm(",
     "library": "var_list.r",
     "varRefreshCmd": "cat(var_dic_list()) "
    }
   },
   "types_to_exclude": [
    "module",
    "function",
    "builtin_function_or_method",
    "instance",
    "_Feature"
   ],
   "window_display": false
  }
 },
 "nbformat": 4,
 "nbformat_minor": 4
}
